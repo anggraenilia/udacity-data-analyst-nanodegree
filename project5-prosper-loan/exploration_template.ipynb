{
 "cells": [
  {
   "cell_type": "markdown",
   "metadata": {},
   "source": [
    "# Prosper Loan Data Exploration\n",
    "## by Lia Anggraeni\n",
    "\n",
    "## Preliminary Wrangling\n",
    "\n",
    "> This notebook contains an exploration of the prosper loan dataset consisting of 113937 rows and 81 columns"
   ]
  },
  {
   "cell_type": "code",
   "execution_count": 1,
   "metadata": {},
   "outputs": [],
   "source": [
    "# import all packages and set plots to be embedded inline\n",
    "import numpy as np\n",
    "import pandas as pd\n",
    "import matplotlib.pyplot as plt\n",
    "import seaborn as sns\n",
    "import random\n",
    "import warnings\n",
    "warnings.filterwarnings('ignore')\n",
    "\n",
    "%matplotlib inline"
   ]
  },
  {
   "cell_type": "code",
   "execution_count": 2,
   "metadata": {},
   "outputs": [],
   "source": [
    "# load data\n",
    "df_loan = pd.read_csv('prosperLoanData.csv')"
   ]
  },
  {
   "cell_type": "code",
   "execution_count": 3,
   "metadata": {},
   "outputs": [
    {
     "data": {
      "text/html": [
       "<div>\n",
       "<style scoped>\n",
       "    .dataframe tbody tr th:only-of-type {\n",
       "        vertical-align: middle;\n",
       "    }\n",
       "\n",
       "    .dataframe tbody tr th {\n",
       "        vertical-align: top;\n",
       "    }\n",
       "\n",
       "    .dataframe thead th {\n",
       "        text-align: right;\n",
       "    }\n",
       "</style>\n",
       "<table border=\"1\" class=\"dataframe\">\n",
       "  <thead>\n",
       "    <tr style=\"text-align: right;\">\n",
       "      <th></th>\n",
       "      <th>ListingKey</th>\n",
       "      <th>ListingNumber</th>\n",
       "      <th>ListingCreationDate</th>\n",
       "      <th>CreditGrade</th>\n",
       "      <th>Term</th>\n",
       "      <th>LoanStatus</th>\n",
       "      <th>ClosedDate</th>\n",
       "      <th>BorrowerAPR</th>\n",
       "      <th>BorrowerRate</th>\n",
       "      <th>LenderYield</th>\n",
       "      <th>...</th>\n",
       "      <th>LP_ServiceFees</th>\n",
       "      <th>LP_CollectionFees</th>\n",
       "      <th>LP_GrossPrincipalLoss</th>\n",
       "      <th>LP_NetPrincipalLoss</th>\n",
       "      <th>LP_NonPrincipalRecoverypayments</th>\n",
       "      <th>PercentFunded</th>\n",
       "      <th>Recommendations</th>\n",
       "      <th>InvestmentFromFriendsCount</th>\n",
       "      <th>InvestmentFromFriendsAmount</th>\n",
       "      <th>Investors</th>\n",
       "    </tr>\n",
       "  </thead>\n",
       "  <tbody>\n",
       "    <tr>\n",
       "      <th>0</th>\n",
       "      <td>1021339766868145413AB3B</td>\n",
       "      <td>193129</td>\n",
       "      <td>2007-08-26 19:09:29.263000000</td>\n",
       "      <td>C</td>\n",
       "      <td>36</td>\n",
       "      <td>Completed</td>\n",
       "      <td>2009-08-14 00:00:00</td>\n",
       "      <td>0.16516</td>\n",
       "      <td>0.1580</td>\n",
       "      <td>0.1380</td>\n",
       "      <td>...</td>\n",
       "      <td>-133.18</td>\n",
       "      <td>0.0</td>\n",
       "      <td>0.0</td>\n",
       "      <td>0.0</td>\n",
       "      <td>0.0</td>\n",
       "      <td>1.0</td>\n",
       "      <td>0</td>\n",
       "      <td>0</td>\n",
       "      <td>0.0</td>\n",
       "      <td>258</td>\n",
       "    </tr>\n",
       "    <tr>\n",
       "      <th>1</th>\n",
       "      <td>10273602499503308B223C1</td>\n",
       "      <td>1209647</td>\n",
       "      <td>2014-02-27 08:28:07.900000000</td>\n",
       "      <td>NaN</td>\n",
       "      <td>36</td>\n",
       "      <td>Current</td>\n",
       "      <td>NaN</td>\n",
       "      <td>0.12016</td>\n",
       "      <td>0.0920</td>\n",
       "      <td>0.0820</td>\n",
       "      <td>...</td>\n",
       "      <td>0.00</td>\n",
       "      <td>0.0</td>\n",
       "      <td>0.0</td>\n",
       "      <td>0.0</td>\n",
       "      <td>0.0</td>\n",
       "      <td>1.0</td>\n",
       "      <td>0</td>\n",
       "      <td>0</td>\n",
       "      <td>0.0</td>\n",
       "      <td>1</td>\n",
       "    </tr>\n",
       "    <tr>\n",
       "      <th>2</th>\n",
       "      <td>0EE9337825851032864889A</td>\n",
       "      <td>81716</td>\n",
       "      <td>2007-01-05 15:00:47.090000000</td>\n",
       "      <td>HR</td>\n",
       "      <td>36</td>\n",
       "      <td>Completed</td>\n",
       "      <td>2009-12-17 00:00:00</td>\n",
       "      <td>0.28269</td>\n",
       "      <td>0.2750</td>\n",
       "      <td>0.2400</td>\n",
       "      <td>...</td>\n",
       "      <td>-24.20</td>\n",
       "      <td>0.0</td>\n",
       "      <td>0.0</td>\n",
       "      <td>0.0</td>\n",
       "      <td>0.0</td>\n",
       "      <td>1.0</td>\n",
       "      <td>0</td>\n",
       "      <td>0</td>\n",
       "      <td>0.0</td>\n",
       "      <td>41</td>\n",
       "    </tr>\n",
       "    <tr>\n",
       "      <th>3</th>\n",
       "      <td>0EF5356002482715299901A</td>\n",
       "      <td>658116</td>\n",
       "      <td>2012-10-22 11:02:35.010000000</td>\n",
       "      <td>NaN</td>\n",
       "      <td>36</td>\n",
       "      <td>Current</td>\n",
       "      <td>NaN</td>\n",
       "      <td>0.12528</td>\n",
       "      <td>0.0974</td>\n",
       "      <td>0.0874</td>\n",
       "      <td>...</td>\n",
       "      <td>-108.01</td>\n",
       "      <td>0.0</td>\n",
       "      <td>0.0</td>\n",
       "      <td>0.0</td>\n",
       "      <td>0.0</td>\n",
       "      <td>1.0</td>\n",
       "      <td>0</td>\n",
       "      <td>0</td>\n",
       "      <td>0.0</td>\n",
       "      <td>158</td>\n",
       "    </tr>\n",
       "    <tr>\n",
       "      <th>4</th>\n",
       "      <td>0F023589499656230C5E3E2</td>\n",
       "      <td>909464</td>\n",
       "      <td>2013-09-14 18:38:39.097000000</td>\n",
       "      <td>NaN</td>\n",
       "      <td>36</td>\n",
       "      <td>Current</td>\n",
       "      <td>NaN</td>\n",
       "      <td>0.24614</td>\n",
       "      <td>0.2085</td>\n",
       "      <td>0.1985</td>\n",
       "      <td>...</td>\n",
       "      <td>-60.27</td>\n",
       "      <td>0.0</td>\n",
       "      <td>0.0</td>\n",
       "      <td>0.0</td>\n",
       "      <td>0.0</td>\n",
       "      <td>1.0</td>\n",
       "      <td>0</td>\n",
       "      <td>0</td>\n",
       "      <td>0.0</td>\n",
       "      <td>20</td>\n",
       "    </tr>\n",
       "  </tbody>\n",
       "</table>\n",
       "<p>5 rows × 81 columns</p>\n",
       "</div>"
      ],
      "text/plain": [
       "                ListingKey  ListingNumber            ListingCreationDate  \\\n",
       "0  1021339766868145413AB3B         193129  2007-08-26 19:09:29.263000000   \n",
       "1  10273602499503308B223C1        1209647  2014-02-27 08:28:07.900000000   \n",
       "2  0EE9337825851032864889A          81716  2007-01-05 15:00:47.090000000   \n",
       "3  0EF5356002482715299901A         658116  2012-10-22 11:02:35.010000000   \n",
       "4  0F023589499656230C5E3E2         909464  2013-09-14 18:38:39.097000000   \n",
       "\n",
       "  CreditGrade  Term LoanStatus           ClosedDate  BorrowerAPR  \\\n",
       "0           C    36  Completed  2009-08-14 00:00:00      0.16516   \n",
       "1         NaN    36    Current                  NaN      0.12016   \n",
       "2          HR    36  Completed  2009-12-17 00:00:00      0.28269   \n",
       "3         NaN    36    Current                  NaN      0.12528   \n",
       "4         NaN    36    Current                  NaN      0.24614   \n",
       "\n",
       "   BorrowerRate  LenderYield  ...  LP_ServiceFees  LP_CollectionFees  \\\n",
       "0        0.1580       0.1380  ...         -133.18                0.0   \n",
       "1        0.0920       0.0820  ...            0.00                0.0   \n",
       "2        0.2750       0.2400  ...          -24.20                0.0   \n",
       "3        0.0974       0.0874  ...         -108.01                0.0   \n",
       "4        0.2085       0.1985  ...          -60.27                0.0   \n",
       "\n",
       "   LP_GrossPrincipalLoss  LP_NetPrincipalLoss LP_NonPrincipalRecoverypayments  \\\n",
       "0                    0.0                  0.0                             0.0   \n",
       "1                    0.0                  0.0                             0.0   \n",
       "2                    0.0                  0.0                             0.0   \n",
       "3                    0.0                  0.0                             0.0   \n",
       "4                    0.0                  0.0                             0.0   \n",
       "\n",
       "   PercentFunded  Recommendations InvestmentFromFriendsCount  \\\n",
       "0            1.0                0                          0   \n",
       "1            1.0                0                          0   \n",
       "2            1.0                0                          0   \n",
       "3            1.0                0                          0   \n",
       "4            1.0                0                          0   \n",
       "\n",
       "  InvestmentFromFriendsAmount Investors  \n",
       "0                         0.0       258  \n",
       "1                         0.0         1  \n",
       "2                         0.0        41  \n",
       "3                         0.0       158  \n",
       "4                         0.0        20  \n",
       "\n",
       "[5 rows x 81 columns]"
      ]
     },
     "execution_count": 3,
     "metadata": {},
     "output_type": "execute_result"
    }
   ],
   "source": [
    "df_loan.head()"
   ]
  },
  {
   "cell_type": "code",
   "execution_count": 4,
   "metadata": {},
   "outputs": [
    {
     "data": {
      "text/plain": [
       "(113937, 81)"
      ]
     },
     "execution_count": 4,
     "metadata": {},
     "output_type": "execute_result"
    }
   ],
   "source": [
    "# show number of rows and columns\n",
    "df_loan.shape"
   ]
  },
  {
   "cell_type": "code",
   "execution_count": 5,
   "metadata": {
    "scrolled": true
   },
   "outputs": [
    {
     "name": "stdout",
     "output_type": "stream",
     "text": [
      "<class 'pandas.core.frame.DataFrame'>\n",
      "RangeIndex: 113937 entries, 0 to 113936\n",
      "Data columns (total 81 columns):\n",
      " #   Column                               Non-Null Count   Dtype  \n",
      "---  ------                               --------------   -----  \n",
      " 0   ListingKey                           113937 non-null  object \n",
      " 1   ListingNumber                        113937 non-null  int64  \n",
      " 2   ListingCreationDate                  113937 non-null  object \n",
      " 3   CreditGrade                          28953 non-null   object \n",
      " 4   Term                                 113937 non-null  int64  \n",
      " 5   LoanStatus                           113937 non-null  object \n",
      " 6   ClosedDate                           55089 non-null   object \n",
      " 7   BorrowerAPR                          113912 non-null  float64\n",
      " 8   BorrowerRate                         113937 non-null  float64\n",
      " 9   LenderYield                          113937 non-null  float64\n",
      " 10  EstimatedEffectiveYield              84853 non-null   float64\n",
      " 11  EstimatedLoss                        84853 non-null   float64\n",
      " 12  EstimatedReturn                      84853 non-null   float64\n",
      " 13  ProsperRating (numeric)              84853 non-null   float64\n",
      " 14  ProsperRating (Alpha)                84853 non-null   object \n",
      " 15  ProsperScore                         84853 non-null   float64\n",
      " 16  ListingCategory (numeric)            113937 non-null  int64  \n",
      " 17  BorrowerState                        108422 non-null  object \n",
      " 18  Occupation                           110349 non-null  object \n",
      " 19  EmploymentStatus                     111682 non-null  object \n",
      " 20  EmploymentStatusDuration             106312 non-null  float64\n",
      " 21  IsBorrowerHomeowner                  113937 non-null  bool   \n",
      " 22  CurrentlyInGroup                     113937 non-null  bool   \n",
      " 23  GroupKey                             13341 non-null   object \n",
      " 24  DateCreditPulled                     113937 non-null  object \n",
      " 25  CreditScoreRangeLower                113346 non-null  float64\n",
      " 26  CreditScoreRangeUpper                113346 non-null  float64\n",
      " 27  FirstRecordedCreditLine              113240 non-null  object \n",
      " 28  CurrentCreditLines                   106333 non-null  float64\n",
      " 29  OpenCreditLines                      106333 non-null  float64\n",
      " 30  TotalCreditLinespast7years           113240 non-null  float64\n",
      " 31  OpenRevolvingAccounts                113937 non-null  int64  \n",
      " 32  OpenRevolvingMonthlyPayment          113937 non-null  float64\n",
      " 33  InquiriesLast6Months                 113240 non-null  float64\n",
      " 34  TotalInquiries                       112778 non-null  float64\n",
      " 35  CurrentDelinquencies                 113240 non-null  float64\n",
      " 36  AmountDelinquent                     106315 non-null  float64\n",
      " 37  DelinquenciesLast7Years              112947 non-null  float64\n",
      " 38  PublicRecordsLast10Years             113240 non-null  float64\n",
      " 39  PublicRecordsLast12Months            106333 non-null  float64\n",
      " 40  RevolvingCreditBalance               106333 non-null  float64\n",
      " 41  BankcardUtilization                  106333 non-null  float64\n",
      " 42  AvailableBankcardCredit              106393 non-null  float64\n",
      " 43  TotalTrades                          106393 non-null  float64\n",
      " 44  TradesNeverDelinquent (percentage)   106393 non-null  float64\n",
      " 45  TradesOpenedLast6Months              106393 non-null  float64\n",
      " 46  DebtToIncomeRatio                    105383 non-null  float64\n",
      " 47  IncomeRange                          113937 non-null  object \n",
      " 48  IncomeVerifiable                     113937 non-null  bool   \n",
      " 49  StatedMonthlyIncome                  113937 non-null  float64\n",
      " 50  LoanKey                              113937 non-null  object \n",
      " 51  TotalProsperLoans                    22085 non-null   float64\n",
      " 52  TotalProsperPaymentsBilled           22085 non-null   float64\n",
      " 53  OnTimeProsperPayments                22085 non-null   float64\n",
      " 54  ProsperPaymentsLessThanOneMonthLate  22085 non-null   float64\n",
      " 55  ProsperPaymentsOneMonthPlusLate      22085 non-null   float64\n",
      " 56  ProsperPrincipalBorrowed             22085 non-null   float64\n",
      " 57  ProsperPrincipalOutstanding          22085 non-null   float64\n",
      " 58  ScorexChangeAtTimeOfListing          18928 non-null   float64\n",
      " 59  LoanCurrentDaysDelinquent            113937 non-null  int64  \n",
      " 60  LoanFirstDefaultedCycleNumber        16952 non-null   float64\n",
      " 61  LoanMonthsSinceOrigination           113937 non-null  int64  \n",
      " 62  LoanNumber                           113937 non-null  int64  \n",
      " 63  LoanOriginalAmount                   113937 non-null  int64  \n",
      " 64  LoanOriginationDate                  113937 non-null  object \n",
      " 65  LoanOriginationQuarter               113937 non-null  object \n",
      " 66  MemberKey                            113937 non-null  object \n",
      " 67  MonthlyLoanPayment                   113937 non-null  float64\n",
      " 68  LP_CustomerPayments                  113937 non-null  float64\n",
      " 69  LP_CustomerPrincipalPayments         113937 non-null  float64\n",
      " 70  LP_InterestandFees                   113937 non-null  float64\n",
      " 71  LP_ServiceFees                       113937 non-null  float64\n",
      " 72  LP_CollectionFees                    113937 non-null  float64\n",
      " 73  LP_GrossPrincipalLoss                113937 non-null  float64\n",
      " 74  LP_NetPrincipalLoss                  113937 non-null  float64\n",
      " 75  LP_NonPrincipalRecoverypayments      113937 non-null  float64\n",
      " 76  PercentFunded                        113937 non-null  float64\n",
      " 77  Recommendations                      113937 non-null  int64  \n",
      " 78  InvestmentFromFriendsCount           113937 non-null  int64  \n",
      " 79  InvestmentFromFriendsAmount          113937 non-null  float64\n",
      " 80  Investors                            113937 non-null  int64  \n",
      "dtypes: bool(3), float64(50), int64(11), object(17)\n",
      "memory usage: 68.1+ MB\n"
     ]
    }
   ],
   "source": [
    "# show the number of data and data type for each column\n",
    "df_loan.info()"
   ]
  },
  {
   "cell_type": "code",
   "execution_count": 6,
   "metadata": {},
   "outputs": [
    {
     "data": {
      "text/plain": [
       "Current                   56576\n",
       "Completed                 38074\n",
       "Chargedoff                11992\n",
       "Defaulted                  5018\n",
       "Past Due (1-15 days)        806\n",
       "Past Due (31-60 days)       363\n",
       "Past Due (61-90 days)       313\n",
       "Past Due (91-120 days)      304\n",
       "Past Due (16-30 days)       265\n",
       "FinalPaymentInProgress      205\n",
       "Past Due (>120 days)         16\n",
       "Cancelled                     5\n",
       "Name: LoanStatus, dtype: int64"
      ]
     },
     "execution_count": 6,
     "metadata": {},
     "output_type": "execute_result"
    }
   ],
   "source": [
    "df_loan.LoanStatus.value_counts()"
   ]
  },
  {
   "cell_type": "code",
   "execution_count": 7,
   "metadata": {},
   "outputs": [],
   "source": [
    "# make a list of columns to be used\n",
    "selected_colomns = ['CreditGrade', 'LoanStatus', 'ProsperScore', 'EmploymentStatus', 'StatedMonthlyIncome', 'MonthlyLoanPayment', 'LoanOriginalAmount', 'DebtToIncomeRatio', 'EstimatedLoss']"
   ]
  },
  {
   "cell_type": "code",
   "execution_count": 8,
   "metadata": {},
   "outputs": [],
   "source": [
    "# copy data from df_loan\n",
    "df_loan2 = df_loan[selected_colomns].copy()"
   ]
  },
  {
   "cell_type": "code",
   "execution_count": 9,
   "metadata": {},
   "outputs": [],
   "source": [
    "df_loan2 = df_loan2.query('(LoanStatus == \"Completed\") | (LoanStatus == \"Chargedoff\")').copy()"
   ]
  },
  {
   "cell_type": "code",
   "execution_count": 10,
   "metadata": {},
   "outputs": [
    {
     "data": {
      "text/plain": [
       "(50066, 9)"
      ]
     },
     "execution_count": 10,
     "metadata": {},
     "output_type": "execute_result"
    }
   ],
   "source": [
    "df_loan2.shape"
   ]
  },
  {
   "cell_type": "code",
   "execution_count": 11,
   "metadata": {},
   "outputs": [
    {
     "name": "stdout",
     "output_type": "stream",
     "text": [
      "<class 'pandas.core.frame.DataFrame'>\n",
      "Int64Index: 50066 entries, 0 to 113935\n",
      "Data columns (total 9 columns):\n",
      " #   Column               Non-Null Count  Dtype  \n",
      "---  ------               --------------  -----  \n",
      " 0   CreditGrade          24938 non-null  object \n",
      " 1   LoanStatus           50066 non-null  object \n",
      " 2   ProsperScore         25000 non-null  float64\n",
      " 3   EmploymentStatus     48336 non-null  object \n",
      " 4   StatedMonthlyIncome  50066 non-null  float64\n",
      " 5   MonthlyLoanPayment   50066 non-null  float64\n",
      " 6   LoanOriginalAmount   50066 non-null  int64  \n",
      " 7   DebtToIncomeRatio    46091 non-null  float64\n",
      " 8   EstimatedLoss        25000 non-null  float64\n",
      "dtypes: float64(5), int64(1), object(3)\n",
      "memory usage: 3.8+ MB\n"
     ]
    }
   ],
   "source": [
    "df_loan2.info()"
   ]
  },
  {
   "cell_type": "code",
   "execution_count": 12,
   "metadata": {},
   "outputs": [
    {
     "data": {
      "text/plain": [
       "Completed     38074\n",
       "Chargedoff    11992\n",
       "Name: LoanStatus, dtype: int64"
      ]
     },
     "execution_count": 12,
     "metadata": {},
     "output_type": "execute_result"
    }
   ],
   "source": [
    "df_loan2.LoanStatus.value_counts()"
   ]
  },
  {
   "cell_type": "code",
   "execution_count": 13,
   "metadata": {},
   "outputs": [
    {
     "data": {
      "text/html": [
       "<div>\n",
       "<style scoped>\n",
       "    .dataframe tbody tr th:only-of-type {\n",
       "        vertical-align: middle;\n",
       "    }\n",
       "\n",
       "    .dataframe tbody tr th {\n",
       "        vertical-align: top;\n",
       "    }\n",
       "\n",
       "    .dataframe thead th {\n",
       "        text-align: right;\n",
       "    }\n",
       "</style>\n",
       "<table border=\"1\" class=\"dataframe\">\n",
       "  <thead>\n",
       "    <tr style=\"text-align: right;\">\n",
       "      <th></th>\n",
       "      <th>ProsperScore</th>\n",
       "      <th>StatedMonthlyIncome</th>\n",
       "      <th>MonthlyLoanPayment</th>\n",
       "      <th>LoanOriginalAmount</th>\n",
       "      <th>DebtToIncomeRatio</th>\n",
       "      <th>EstimatedLoss</th>\n",
       "    </tr>\n",
       "  </thead>\n",
       "  <tbody>\n",
       "    <tr>\n",
       "      <th>count</th>\n",
       "      <td>25000.000000</td>\n",
       "      <td>50066.000000</td>\n",
       "      <td>50066.000000</td>\n",
       "      <td>50066.000000</td>\n",
       "      <td>46091.000000</td>\n",
       "      <td>25000.000000</td>\n",
       "    </tr>\n",
       "    <tr>\n",
       "      <th>mean</th>\n",
       "      <td>6.291960</td>\n",
       "      <td>5123.675099</td>\n",
       "      <td>222.751226</td>\n",
       "      <td>6239.350957</td>\n",
       "      <td>0.281663</td>\n",
       "      <td>0.093065</td>\n",
       "    </tr>\n",
       "    <tr>\n",
       "      <th>std</th>\n",
       "      <td>2.320305</td>\n",
       "      <td>5896.054365</td>\n",
       "      <td>183.126604</td>\n",
       "      <td>5150.099434</td>\n",
       "      <td>0.705738</td>\n",
       "      <td>0.055125</td>\n",
       "    </tr>\n",
       "    <tr>\n",
       "      <th>min</th>\n",
       "      <td>1.000000</td>\n",
       "      <td>0.000000</td>\n",
       "      <td>0.000000</td>\n",
       "      <td>1000.000000</td>\n",
       "      <td>0.000000</td>\n",
       "      <td>0.004900</td>\n",
       "    </tr>\n",
       "    <tr>\n",
       "      <th>25%</th>\n",
       "      <td>5.000000</td>\n",
       "      <td>2842.937500</td>\n",
       "      <td>98.190000</td>\n",
       "      <td>2700.000000</td>\n",
       "      <td>0.120000</td>\n",
       "      <td>0.050000</td>\n",
       "    </tr>\n",
       "    <tr>\n",
       "      <th>50%</th>\n",
       "      <td>6.000000</td>\n",
       "      <td>4208.333333</td>\n",
       "      <td>172.760000</td>\n",
       "      <td>4500.000000</td>\n",
       "      <td>0.200000</td>\n",
       "      <td>0.097500</td>\n",
       "    </tr>\n",
       "    <tr>\n",
       "      <th>75%</th>\n",
       "      <td>8.000000</td>\n",
       "      <td>6250.000000</td>\n",
       "      <td>300.000000</td>\n",
       "      <td>8000.000000</td>\n",
       "      <td>0.300000</td>\n",
       "      <td>0.140000</td>\n",
       "    </tr>\n",
       "    <tr>\n",
       "      <th>max</th>\n",
       "      <td>11.000000</td>\n",
       "      <td>618547.833333</td>\n",
       "      <td>2251.510000</td>\n",
       "      <td>35000.000000</td>\n",
       "      <td>10.010000</td>\n",
       "      <td>0.366000</td>\n",
       "    </tr>\n",
       "  </tbody>\n",
       "</table>\n",
       "</div>"
      ],
      "text/plain": [
       "       ProsperScore  StatedMonthlyIncome  MonthlyLoanPayment  \\\n",
       "count  25000.000000         50066.000000        50066.000000   \n",
       "mean       6.291960          5123.675099          222.751226   \n",
       "std        2.320305          5896.054365          183.126604   \n",
       "min        1.000000             0.000000            0.000000   \n",
       "25%        5.000000          2842.937500           98.190000   \n",
       "50%        6.000000          4208.333333          172.760000   \n",
       "75%        8.000000          6250.000000          300.000000   \n",
       "max       11.000000        618547.833333         2251.510000   \n",
       "\n",
       "       LoanOriginalAmount  DebtToIncomeRatio  EstimatedLoss  \n",
       "count        50066.000000       46091.000000   25000.000000  \n",
       "mean          6239.350957           0.281663       0.093065  \n",
       "std           5150.099434           0.705738       0.055125  \n",
       "min           1000.000000           0.000000       0.004900  \n",
       "25%           2700.000000           0.120000       0.050000  \n",
       "50%           4500.000000           0.200000       0.097500  \n",
       "75%           8000.000000           0.300000       0.140000  \n",
       "max          35000.000000          10.010000       0.366000  "
      ]
     },
     "execution_count": 13,
     "metadata": {},
     "output_type": "execute_result"
    }
   ],
   "source": [
    "# show statistic summary\n",
    "df_loan2.describe()"
   ]
  },
  {
   "cell_type": "code",
   "execution_count": 14,
   "metadata": {},
   "outputs": [],
   "source": [
    "df_loan2.to_csv('prosperLoanData_new1.csv')"
   ]
  },
  {
   "cell_type": "markdown",
   "metadata": {},
   "source": [
    "### What is the structure of your dataset?\n",
    "\n",
    "> The original dataset contained 113937 rows and 81 columns. However, I will only use data that has a loan status charged off and completed. I will also only use a few variables to analyze. The total data that I used before I did the cleaning process is 50066 data with 8 columns.\n",
    "\n",
    "### What is/are the main feature(s) of interest in your dataset?\n",
    "\n",
    "> I am interested in finding out what factors affect Completed and Chargedoff on the LoanStatus variable\n",
    "\n",
    "\n",
    "### What features in the dataset do you think will help support your investigation into your feature(s) of interest?\n",
    "\n",
    "> CreditGrade, ProsperScore, EmploymentStatus, StatedMonthlyIncome, MonthlyLoanPayment, DebtToIncomeRatio, EstimatedLoss"
   ]
  },
  {
   "cell_type": "markdown",
   "metadata": {},
   "source": [
    "## Univariate Exploration\n"
   ]
  },
  {
   "cell_type": "code",
   "execution_count": 15,
   "metadata": {},
   "outputs": [],
   "source": [
    "base_color = sns.color_palette()[0]"
   ]
  },
  {
   "cell_type": "markdown",
   "metadata": {},
   "source": [
    "### CreditGrade."
   ]
  },
  {
   "cell_type": "code",
   "execution_count": 16,
   "metadata": {},
   "outputs": [
    {
     "data": {
      "text/plain": [
       "C     4919\n",
       "D     4469\n",
       "B     3896\n",
       "AA    3308\n",
       "A     3031\n",
       "E     2624\n",
       "HR    2614\n",
       "NC      77\n",
       "Name: CreditGrade, dtype: int64"
      ]
     },
     "execution_count": 16,
     "metadata": {},
     "output_type": "execute_result"
    }
   ],
   "source": [
    "# show number of data CreditGrade each unique value\n",
    "df_loan2.CreditGrade.value_counts()"
   ]
  },
  {
   "cell_type": "markdown",
   "metadata": {},
   "source": [
    "I will change the value of 'NC' (No Credit) to NaN"
   ]
  },
  {
   "cell_type": "code",
   "execution_count": 17,
   "metadata": {},
   "outputs": [
    {
     "data": {
      "text/plain": [
       "25128"
      ]
     },
     "execution_count": 17,
     "metadata": {},
     "output_type": "execute_result"
    }
   ],
   "source": [
    "# Check the amount of data that has a blank CreditGrade value \n",
    "sum(df_loan2['CreditGrade'].isna())"
   ]
  },
  {
   "cell_type": "code",
   "execution_count": 18,
   "metadata": {},
   "outputs": [],
   "source": [
    "# change NC to NaN\n",
    "df_loan2.loc[df_loan2.CreditGrade == 'NC', 'CreditGrade'] = None"
   ]
  },
  {
   "cell_type": "code",
   "execution_count": 19,
   "metadata": {},
   "outputs": [
    {
     "data": {
      "text/plain": [
       "25205"
      ]
     },
     "execution_count": 19,
     "metadata": {},
     "output_type": "execute_result"
    }
   ],
   "source": [
    "sum(df_loan2['CreditGrade'].isna())"
   ]
  },
  {
   "cell_type": "code",
   "execution_count": 20,
   "metadata": {},
   "outputs": [],
   "source": [
    "credit_grade = ['HR', 'E', 'D', 'C', 'B', 'A', 'AA'] # NC no grade\n",
    "cgrade = pd.api.types.CategoricalDtype(ordered=True, categories=credit_grade)\n",
    "df_loan2['CreditGrade'] = df_loan2['CreditGrade'].astype(cgrade)"
   ]
  },
  {
   "cell_type": "code",
   "execution_count": 21,
   "metadata": {},
   "outputs": [
    {
     "data": {
      "image/png": "[encoded data removed]",
      "text/plain": [
       "<Figure size 432x288 with 1 Axes>"
      ]
     },
     "metadata": {
      "needs_background": "light"
     },
     "output_type": "display_data"
    }
   ],
   "source": [
    "sns.countplot(df_loan2.CreditGrade, color=base_color);"
   ]
  },
  {
   "cell_type": "markdown",
   "metadata": {},
   "source": [
    "credit grade C is the most credit grade owned by the borrower"
   ]
  },
  {
   "cell_type": "markdown",
   "metadata": {},
   "source": [
    "### LoanStatus"
   ]
  },
  {
   "cell_type": "code",
   "execution_count": 22,
   "metadata": {},
   "outputs": [
    {
     "data": {
      "text/plain": [
       "Completed     38074\n",
       "Chargedoff    11992\n",
       "Name: LoanStatus, dtype: int64"
      ]
     },
     "execution_count": 22,
     "metadata": {},
     "output_type": "execute_result"
    }
   ],
   "source": [
    "df_loan2.LoanStatus.value_counts()"
   ]
  },
  {
   "cell_type": "markdown",
   "metadata": {},
   "source": [
    "to facilitate processing I will change the value of LoanStatus to boolean. Completed: 1, Chargedoff: 0"
   ]
  },
  {
   "cell_type": "code",
   "execution_count": 23,
   "metadata": {},
   "outputs": [],
   "source": [
    "# change Completed to 1 and Chargedoff to 0\n",
    "df_loan2.LoanStatus = df_loan2.LoanStatus.map(dict(Completed=1, Chargedoff=0))"
   ]
  },
  {
   "cell_type": "code",
   "execution_count": 24,
   "metadata": {},
   "outputs": [
    {
     "data": {
      "text/plain": [
       "1    38074\n",
       "0    11992\n",
       "Name: LoanStatus, dtype: int64"
      ]
     },
     "execution_count": 24,
     "metadata": {},
     "output_type": "execute_result"
    }
   ],
   "source": [
    "df_loan2.LoanStatus.value_counts()"
   ]
  },
  {
   "cell_type": "code",
   "execution_count": 25,
   "metadata": {},
   "outputs": [
    {
     "data": {
      "image/png": "[encoded data removed]",
      "text/plain": [
       "<Figure size 432x288 with 1 Axes>"
      ]
     },
     "metadata": {},
     "output_type": "display_data"
    }
   ],
   "source": [
    "data = df_loan2.LoanStatus.value_counts()\n",
    "plt.pie(data, labels=['Completed', 'Chargedoff'], autopct='%1d%%');"
   ]
  },
  {
   "cell_type": "markdown",
   "metadata": {},
   "source": [
    "There are more borrowers who have completed loan status compared to those who have charged off status. 76% completed while 23% were charged off."
   ]
  },
  {
   "cell_type": "markdown",
   "metadata": {},
   "source": [
    "### ProsperScore"
   ]
  },
  {
   "cell_type": "code",
   "execution_count": 26,
   "metadata": {},
   "outputs": [
    {
     "data": {
      "text/plain": [
       "<matplotlib.axes._subplots.AxesSubplot at 0x1d25dbb7f48>"
      ]
     },
     "execution_count": 26,
     "metadata": {},
     "output_type": "execute_result"
    },
    {
     "data": {
      "image/png": "[encoded data removed]",
      "text/plain": [
       "<Figure size 432x288 with 1 Axes>"
      ]
     },
     "metadata": {
      "needs_background": "light"
     },
     "output_type": "display_data"
    }
   ],
   "source": [
    "sns.countplot(df_loan2.ProsperScore, color=base_color)"
   ]
  },
  {
   "cell_type": "markdown",
   "metadata": {},
   "source": [
    "### EmploymentStatus"
   ]
  },
  {
   "cell_type": "code",
   "execution_count": 27,
   "metadata": {
    "scrolled": true
   },
   "outputs": [
    {
     "data": {
      "image/png": "[encoded data removed]",
      "text/plain": [
       "<Figure size 432x288 with 1 Axes>"
      ]
     },
     "metadata": {
      "needs_background": "light"
     },
     "output_type": "display_data"
    }
   ],
   "source": [
    "sns.countplot(df_loan2.EmploymentStatus, color=base_color)\n",
    "plt.xticks(rotation=90);"
   ]
  },
  {
   "cell_type": "markdown",
   "metadata": {},
   "source": [
    "Most borrowers have full time employment status"
   ]
  },
  {
   "cell_type": "markdown",
   "metadata": {},
   "source": [
    "### StatedMonthlyIncome"
   ]
  },
  {
   "cell_type": "code",
   "execution_count": 28,
   "metadata": {},
   "outputs": [
    {
     "data": {
      "image/png": "[encoded data removed]",
      "text/plain": [
       "<Figure size 432x288 with 1 Axes>"
      ]
     },
     "metadata": {
      "needs_background": "light"
     },
     "output_type": "display_data"
    }
   ],
   "source": [
    "plt.hist(df_loan2.StatedMonthlyIncome);"
   ]
  },
  {
   "cell_type": "markdown",
   "metadata": {},
   "source": [
    "The data looks like only located around the point 0 - 60000, while the x axis exceeds 600000. It seems that there is an outlier in the StatedMonthlyIncome column, for more details, I will plot it into the boxplot."
   ]
  },
  {
   "cell_type": "code",
   "execution_count": 29,
   "metadata": {},
   "outputs": [
    {
     "data": {
      "image/png": "[encoded data removed]",
      "text/plain": [
       "<Figure size 432x288 with 1 Axes>"
      ]
     },
     "metadata": {
      "needs_background": "light"
     },
     "output_type": "display_data"
    }
   ],
   "source": [
    "plt.boxplot(df_loan2.StatedMonthlyIncome);"
   ]
  },
  {
   "cell_type": "markdown",
   "metadata": {},
   "source": [
    "data that has StatedMonthlyIncome > 100000 is classified as an outlier"
   ]
  },
  {
   "cell_type": "code",
   "execution_count": 30,
   "metadata": {},
   "outputs": [
    {
     "data": {
      "text/html": [
       "<div>\n",
       "<style scoped>\n",
       "    .dataframe tbody tr th:only-of-type {\n",
       "        vertical-align: middle;\n",
       "    }\n",
       "\n",
       "    .dataframe tbody tr th {\n",
       "        vertical-align: top;\n",
       "    }\n",
       "\n",
       "    .dataframe thead th {\n",
       "        text-align: right;\n",
       "    }\n",
       "</style>\n",
       "<table border=\"1\" class=\"dataframe\">\n",
       "  <thead>\n",
       "    <tr style=\"text-align: right;\">\n",
       "      <th></th>\n",
       "      <th>CreditGrade</th>\n",
       "      <th>LoanStatus</th>\n",
       "      <th>ProsperScore</th>\n",
       "      <th>EmploymentStatus</th>\n",
       "      <th>StatedMonthlyIncome</th>\n",
       "      <th>MonthlyLoanPayment</th>\n",
       "      <th>LoanOriginalAmount</th>\n",
       "      <th>DebtToIncomeRatio</th>\n",
       "      <th>EstimatedLoss</th>\n",
       "    </tr>\n",
       "  </thead>\n",
       "  <tbody>\n",
       "    <tr>\n",
       "      <th>8066</th>\n",
       "      <td>NaN</td>\n",
       "      <td>1</td>\n",
       "      <td>4.0</td>\n",
       "      <td>Employed</td>\n",
       "      <td>416666.666667</td>\n",
       "      <td>87.10</td>\n",
       "      <td>2000</td>\n",
       "      <td>0.00</td>\n",
       "      <td>0.1830</td>\n",
       "    </tr>\n",
       "    <tr>\n",
       "      <th>8870</th>\n",
       "      <td>A</td>\n",
       "      <td>0</td>\n",
       "      <td>NaN</td>\n",
       "      <td>Not available</td>\n",
       "      <td>208333.333333</td>\n",
       "      <td>415.18</td>\n",
       "      <td>12500</td>\n",
       "      <td>0.01</td>\n",
       "      <td>NaN</td>\n",
       "    </tr>\n",
       "    <tr>\n",
       "      <th>17411</th>\n",
       "      <td>NaN</td>\n",
       "      <td>1</td>\n",
       "      <td>5.0</td>\n",
       "      <td>Employed</td>\n",
       "      <td>483333.333333</td>\n",
       "      <td>326.62</td>\n",
       "      <td>7500</td>\n",
       "      <td>0.00</td>\n",
       "      <td>0.1470</td>\n",
       "    </tr>\n",
       "    <tr>\n",
       "      <th>35218</th>\n",
       "      <td>NaN</td>\n",
       "      <td>1</td>\n",
       "      <td>10.0</td>\n",
       "      <td>Full-time</td>\n",
       "      <td>108333.333333</td>\n",
       "      <td>0.00</td>\n",
       "      <td>1000</td>\n",
       "      <td>NaN</td>\n",
       "      <td>0.0060</td>\n",
       "    </tr>\n",
       "    <tr>\n",
       "      <th>53014</th>\n",
       "      <td>NaN</td>\n",
       "      <td>1</td>\n",
       "      <td>3.0</td>\n",
       "      <td>Self-employed</td>\n",
       "      <td>618547.833333</td>\n",
       "      <td>366.62</td>\n",
       "      <td>4000</td>\n",
       "      <td>NaN</td>\n",
       "      <td>0.0975</td>\n",
       "    </tr>\n",
       "    <tr>\n",
       "      <th>56867</th>\n",
       "      <td>AA</td>\n",
       "      <td>1</td>\n",
       "      <td>NaN</td>\n",
       "      <td>Self-employed</td>\n",
       "      <td>185081.750000</td>\n",
       "      <td>811.97</td>\n",
       "      <td>25000</td>\n",
       "      <td>0.01</td>\n",
       "      <td>NaN</td>\n",
       "    </tr>\n",
       "    <tr>\n",
       "      <th>63925</th>\n",
       "      <td>E</td>\n",
       "      <td>1</td>\n",
       "      <td>NaN</td>\n",
       "      <td>Not available</td>\n",
       "      <td>140416.666667</td>\n",
       "      <td>79.52</td>\n",
       "      <td>2000</td>\n",
       "      <td>0.02</td>\n",
       "      <td>NaN</td>\n",
       "    </tr>\n",
       "    <tr>\n",
       "      <th>78431</th>\n",
       "      <td>C</td>\n",
       "      <td>0</td>\n",
       "      <td>NaN</td>\n",
       "      <td>Full-time</td>\n",
       "      <td>103334.083333</td>\n",
       "      <td>184.60</td>\n",
       "      <td>5000</td>\n",
       "      <td>0.00</td>\n",
       "      <td>NaN</td>\n",
       "    </tr>\n",
       "    <tr>\n",
       "      <th>83697</th>\n",
       "      <td>AA</td>\n",
       "      <td>1</td>\n",
       "      <td>NaN</td>\n",
       "      <td>Not available</td>\n",
       "      <td>185081.750000</td>\n",
       "      <td>156.68</td>\n",
       "      <td>5000</td>\n",
       "      <td>0.00</td>\n",
       "      <td>NaN</td>\n",
       "    </tr>\n",
       "    <tr>\n",
       "      <th>111265</th>\n",
       "      <td>NaN</td>\n",
       "      <td>1</td>\n",
       "      <td>9.0</td>\n",
       "      <td>Employed</td>\n",
       "      <td>108750.000000</td>\n",
       "      <td>325.47</td>\n",
       "      <td>12765</td>\n",
       "      <td>0.03</td>\n",
       "      <td>0.0599</td>\n",
       "    </tr>\n",
       "  </tbody>\n",
       "</table>\n",
       "</div>"
      ],
      "text/plain": [
       "       CreditGrade  LoanStatus  ProsperScore EmploymentStatus  \\\n",
       "8066           NaN           1           4.0         Employed   \n",
       "8870             A           0           NaN    Not available   \n",
       "17411          NaN           1           5.0         Employed   \n",
       "35218          NaN           1          10.0        Full-time   \n",
       "53014          NaN           1           3.0    Self-employed   \n",
       "56867           AA           1           NaN    Self-employed   \n",
       "63925            E           1           NaN    Not available   \n",
       "78431            C           0           NaN        Full-time   \n",
       "83697           AA           1           NaN    Not available   \n",
       "111265         NaN           1           9.0         Employed   \n",
       "\n",
       "        StatedMonthlyIncome  MonthlyLoanPayment  LoanOriginalAmount  \\\n",
       "8066          416666.666667               87.10                2000   \n",
       "8870          208333.333333              415.18               12500   \n",
       "17411         483333.333333              326.62                7500   \n",
       "35218         108333.333333                0.00                1000   \n",
       "53014         618547.833333              366.62                4000   \n",
       "56867         185081.750000              811.97               25000   \n",
       "63925         140416.666667               79.52                2000   \n",
       "78431         103334.083333              184.60                5000   \n",
       "83697         185081.750000              156.68                5000   \n",
       "111265        108750.000000              325.47               12765   \n",
       "\n",
       "        DebtToIncomeRatio  EstimatedLoss  \n",
       "8066                 0.00         0.1830  \n",
       "8870                 0.01            NaN  \n",
       "17411                0.00         0.1470  \n",
       "35218                 NaN         0.0060  \n",
       "53014                 NaN         0.0975  \n",
       "56867                0.01            NaN  \n",
       "63925                0.02            NaN  \n",
       "78431                0.00            NaN  \n",
       "83697                0.00            NaN  \n",
       "111265               0.03         0.0599  "
      ]
     },
     "execution_count": 30,
     "metadata": {},
     "output_type": "execute_result"
    }
   ],
   "source": [
    "# show data that have StatedMonthlyIncome > 100000\n",
    "df_loan2[df_loan2.StatedMonthlyIncome > 100000]"
   ]
  },
  {
   "cell_type": "markdown",
   "metadata": {},
   "source": [
    "data with StatedMonthlyIncome> 100000, has a much larger StatedMonthlyIncome compared to LoanOriginalAmount. I don't think it's possible, it might be a system error or an input data error."
   ]
  },
  {
   "cell_type": "code",
   "execution_count": 31,
   "metadata": {},
   "outputs": [
    {
     "data": {
      "image/png": "[encoded data removed]",
      "text/plain": [
       "<Figure size 432x288 with 1 Axes>"
      ]
     },
     "metadata": {
      "needs_background": "light"
     },
     "output_type": "display_data"
    }
   ],
   "source": [
    "plt.boxplot(df_loan2[df_loan2.StatedMonthlyIncome < 100000].StatedMonthlyIncome);"
   ]
  },
  {
   "cell_type": "markdown",
   "metadata": {},
   "source": [
    "data that has a StateMonthlyIncome> 20000 is also classified as an outlier"
   ]
  },
  {
   "cell_type": "code",
   "execution_count": 32,
   "metadata": {},
   "outputs": [
    {
     "data": {
      "text/html": [
       "<div>\n",
       "<style scoped>\n",
       "    .dataframe tbody tr th:only-of-type {\n",
       "        vertical-align: middle;\n",
       "    }\n",
       "\n",
       "    .dataframe tbody tr th {\n",
       "        vertical-align: top;\n",
       "    }\n",
       "\n",
       "    .dataframe thead th {\n",
       "        text-align: right;\n",
       "    }\n",
       "</style>\n",
       "<table border=\"1\" class=\"dataframe\">\n",
       "  <thead>\n",
       "    <tr style=\"text-align: right;\">\n",
       "      <th></th>\n",
       "      <th>CreditGrade</th>\n",
       "      <th>LoanStatus</th>\n",
       "      <th>ProsperScore</th>\n",
       "      <th>EmploymentStatus</th>\n",
       "      <th>StatedMonthlyIncome</th>\n",
       "      <th>MonthlyLoanPayment</th>\n",
       "      <th>LoanOriginalAmount</th>\n",
       "      <th>DebtToIncomeRatio</th>\n",
       "      <th>EstimatedLoss</th>\n",
       "    </tr>\n",
       "  </thead>\n",
       "  <tbody>\n",
       "    <tr>\n",
       "      <th>521</th>\n",
       "      <td>C</td>\n",
       "      <td>1</td>\n",
       "      <td>NaN</td>\n",
       "      <td>Full-time</td>\n",
       "      <td>30166.666667</td>\n",
       "      <td>177.52</td>\n",
       "      <td>5000</td>\n",
       "      <td>0.16000</td>\n",
       "      <td>NaN</td>\n",
       "    </tr>\n",
       "    <tr>\n",
       "      <th>667</th>\n",
       "      <td>B</td>\n",
       "      <td>0</td>\n",
       "      <td>NaN</td>\n",
       "      <td>Full-time</td>\n",
       "      <td>31666.666667</td>\n",
       "      <td>859.91</td>\n",
       "      <td>25000</td>\n",
       "      <td>0.12000</td>\n",
       "      <td>NaN</td>\n",
       "    </tr>\n",
       "    <tr>\n",
       "      <th>847</th>\n",
       "      <td>NaN</td>\n",
       "      <td>1</td>\n",
       "      <td>9.0</td>\n",
       "      <td>Employed</td>\n",
       "      <td>25000.000000</td>\n",
       "      <td>328.10</td>\n",
       "      <td>10000</td>\n",
       "      <td>0.08000</td>\n",
       "      <td>0.0350</td>\n",
       "    </tr>\n",
       "    <tr>\n",
       "      <th>1137</th>\n",
       "      <td>NaN</td>\n",
       "      <td>1</td>\n",
       "      <td>5.0</td>\n",
       "      <td>Employed</td>\n",
       "      <td>37500.000000</td>\n",
       "      <td>173.71</td>\n",
       "      <td>4000</td>\n",
       "      <td>0.14000</td>\n",
       "      <td>0.1625</td>\n",
       "    </tr>\n",
       "    <tr>\n",
       "      <th>1171</th>\n",
       "      <td>NaN</td>\n",
       "      <td>0</td>\n",
       "      <td>8.0</td>\n",
       "      <td>Employed</td>\n",
       "      <td>34813.250000</td>\n",
       "      <td>724.00</td>\n",
       "      <td>25000</td>\n",
       "      <td>0.05000</td>\n",
       "      <td>0.0799</td>\n",
       "    </tr>\n",
       "    <tr>\n",
       "      <th>...</th>\n",
       "      <td>...</td>\n",
       "      <td>...</td>\n",
       "      <td>...</td>\n",
       "      <td>...</td>\n",
       "      <td>...</td>\n",
       "      <td>...</td>\n",
       "      <td>...</td>\n",
       "      <td>...</td>\n",
       "      <td>...</td>\n",
       "    </tr>\n",
       "    <tr>\n",
       "      <th>112660</th>\n",
       "      <td>NaN</td>\n",
       "      <td>1</td>\n",
       "      <td>5.0</td>\n",
       "      <td>Full-time</td>\n",
       "      <td>25000.000000</td>\n",
       "      <td>558.46</td>\n",
       "      <td>15000</td>\n",
       "      <td>0.05000</td>\n",
       "      <td>0.0620</td>\n",
       "    </tr>\n",
       "    <tr>\n",
       "      <th>112776</th>\n",
       "      <td>NaN</td>\n",
       "      <td>1</td>\n",
       "      <td>2.0</td>\n",
       "      <td>Employed</td>\n",
       "      <td>29166.666667</td>\n",
       "      <td>371.76</td>\n",
       "      <td>4000</td>\n",
       "      <td>0.13000</td>\n",
       "      <td>0.1175</td>\n",
       "    </tr>\n",
       "    <tr>\n",
       "      <th>113234</th>\n",
       "      <td>NaN</td>\n",
       "      <td>1</td>\n",
       "      <td>8.0</td>\n",
       "      <td>Full-time</td>\n",
       "      <td>25000.000000</td>\n",
       "      <td>196.40</td>\n",
       "      <td>6000</td>\n",
       "      <td>0.28000</td>\n",
       "      <td>0.0495</td>\n",
       "    </tr>\n",
       "    <tr>\n",
       "      <th>113776</th>\n",
       "      <td>NaN</td>\n",
       "      <td>1</td>\n",
       "      <td>10.0</td>\n",
       "      <td>Employed</td>\n",
       "      <td>23750.000000</td>\n",
       "      <td>258.59</td>\n",
       "      <td>3000</td>\n",
       "      <td>0.10000</td>\n",
       "      <td>0.0200</td>\n",
       "    </tr>\n",
       "    <tr>\n",
       "      <th>113902</th>\n",
       "      <td>A</td>\n",
       "      <td>1</td>\n",
       "      <td>NaN</td>\n",
       "      <td>NaN</td>\n",
       "      <td>20833.333333</td>\n",
       "      <td>235.44</td>\n",
       "      <td>7500</td>\n",
       "      <td>0.07419</td>\n",
       "      <td>NaN</td>\n",
       "    </tr>\n",
       "  </tbody>\n",
       "</table>\n",
       "<p>441 rows × 9 columns</p>\n",
       "</div>"
      ],
      "text/plain": [
       "       CreditGrade  LoanStatus  ProsperScore EmploymentStatus  \\\n",
       "521              C           1           NaN        Full-time   \n",
       "667              B           0           NaN        Full-time   \n",
       "847            NaN           1           9.0         Employed   \n",
       "1137           NaN           1           5.0         Employed   \n",
       "1171           NaN           0           8.0         Employed   \n",
       "...            ...         ...           ...              ...   \n",
       "112660         NaN           1           5.0        Full-time   \n",
       "112776         NaN           1           2.0         Employed   \n",
       "113234         NaN           1           8.0        Full-time   \n",
       "113776         NaN           1          10.0         Employed   \n",
       "113902           A           1           NaN              NaN   \n",
       "\n",
       "        StatedMonthlyIncome  MonthlyLoanPayment  LoanOriginalAmount  \\\n",
       "521            30166.666667              177.52                5000   \n",
       "667            31666.666667              859.91               25000   \n",
       "847            25000.000000              328.10               10000   \n",
       "1137           37500.000000              173.71                4000   \n",
       "1171           34813.250000              724.00               25000   \n",
       "...                     ...                 ...                 ...   \n",
       "112660         25000.000000              558.46               15000   \n",
       "112776         29166.666667              371.76                4000   \n",
       "113234         25000.000000              196.40                6000   \n",
       "113776         23750.000000              258.59                3000   \n",
       "113902         20833.333333              235.44                7500   \n",
       "\n",
       "        DebtToIncomeRatio  EstimatedLoss  \n",
       "521               0.16000            NaN  \n",
       "667               0.12000            NaN  \n",
       "847               0.08000         0.0350  \n",
       "1137              0.14000         0.1625  \n",
       "1171              0.05000         0.0799  \n",
       "...                   ...            ...  \n",
       "112660            0.05000         0.0620  \n",
       "112776            0.13000         0.1175  \n",
       "113234            0.28000         0.0495  \n",
       "113776            0.10000         0.0200  \n",
       "113902            0.07419            NaN  \n",
       "\n",
       "[441 rows x 9 columns]"
      ]
     },
     "execution_count": 32,
     "metadata": {},
     "output_type": "execute_result"
    }
   ],
   "source": [
    "df_loan2[(df_loan2.StatedMonthlyIncome < 100000) & (df_loan2.StatedMonthlyIncome > 20000)]"
   ]
  },
  {
   "cell_type": "markdown",
   "metadata": {},
   "source": [
    "There is some data that has a difference between StatedMonthlyIncome and LoanOriginalAmount, which is not too large like the data in index 1171, so I will calculate the difference between StatedMonthlyIncome and LoanOriginalAmount to determine which data I will delete."
   ]
  },
  {
   "cell_type": "code",
   "execution_count": 33,
   "metadata": {},
   "outputs": [],
   "source": [
    "# calculate the StatedMonthlyIncome difference with LoanOriginalAmount\n",
    "df_loan2['diff_income_loan'] = df_loan2.StatedMonthlyIncome - df_loan2.LoanOriginalAmount"
   ]
  },
  {
   "cell_type": "code",
   "execution_count": 34,
   "metadata": {},
   "outputs": [
    {
     "data": {
      "image/png": "[encoded data removed]",
      "text/plain": [
       "<Figure size 432x288 with 1 Axes>"
      ]
     },
     "metadata": {
      "needs_background": "light"
     },
     "output_type": "display_data"
    }
   ],
   "source": [
    "plt.boxplot(df_loan2.diff_income_loan);"
   ]
  },
  {
   "cell_type": "markdown",
   "metadata": {},
   "source": [
    "data that has diff_income_loan> 20000 is classified as an outlier"
   ]
  },
  {
   "cell_type": "code",
   "execution_count": 35,
   "metadata": {},
   "outputs": [
    {
     "data": {
      "text/html": [
       "<div>\n",
       "<style scoped>\n",
       "    .dataframe tbody tr th:only-of-type {\n",
       "        vertical-align: middle;\n",
       "    }\n",
       "\n",
       "    .dataframe tbody tr th {\n",
       "        vertical-align: top;\n",
       "    }\n",
       "\n",
       "    .dataframe thead th {\n",
       "        text-align: right;\n",
       "    }\n",
       "</style>\n",
       "<table border=\"1\" class=\"dataframe\">\n",
       "  <thead>\n",
       "    <tr style=\"text-align: right;\">\n",
       "      <th></th>\n",
       "      <th>CreditGrade</th>\n",
       "      <th>LoanStatus</th>\n",
       "      <th>ProsperScore</th>\n",
       "      <th>EmploymentStatus</th>\n",
       "      <th>StatedMonthlyIncome</th>\n",
       "      <th>MonthlyLoanPayment</th>\n",
       "      <th>LoanOriginalAmount</th>\n",
       "      <th>DebtToIncomeRatio</th>\n",
       "      <th>EstimatedLoss</th>\n",
       "      <th>diff_income_loan</th>\n",
       "    </tr>\n",
       "  </thead>\n",
       "  <tbody>\n",
       "    <tr>\n",
       "      <th>521</th>\n",
       "      <td>C</td>\n",
       "      <td>1</td>\n",
       "      <td>NaN</td>\n",
       "      <td>Full-time</td>\n",
       "      <td>30166.666667</td>\n",
       "      <td>177.52</td>\n",
       "      <td>5000</td>\n",
       "      <td>0.16</td>\n",
       "      <td>NaN</td>\n",
       "      <td>25166.666667</td>\n",
       "    </tr>\n",
       "    <tr>\n",
       "      <th>1137</th>\n",
       "      <td>NaN</td>\n",
       "      <td>1</td>\n",
       "      <td>5.0</td>\n",
       "      <td>Employed</td>\n",
       "      <td>37500.000000</td>\n",
       "      <td>173.71</td>\n",
       "      <td>4000</td>\n",
       "      <td>0.14</td>\n",
       "      <td>0.1625</td>\n",
       "      <td>33500.000000</td>\n",
       "    </tr>\n",
       "    <tr>\n",
       "      <th>1304</th>\n",
       "      <td>NaN</td>\n",
       "      <td>1</td>\n",
       "      <td>8.0</td>\n",
       "      <td>Employed</td>\n",
       "      <td>31250.000000</td>\n",
       "      <td>361.47</td>\n",
       "      <td>10000</td>\n",
       "      <td>0.07</td>\n",
       "      <td>0.0595</td>\n",
       "      <td>21250.000000</td>\n",
       "    </tr>\n",
       "    <tr>\n",
       "      <th>1866</th>\n",
       "      <td>NaN</td>\n",
       "      <td>1</td>\n",
       "      <td>5.0</td>\n",
       "      <td>Self-employed</td>\n",
       "      <td>41666.666667</td>\n",
       "      <td>274.17</td>\n",
       "      <td>3000</td>\n",
       "      <td>NaN</td>\n",
       "      <td>0.0975</td>\n",
       "      <td>38666.666667</td>\n",
       "    </tr>\n",
       "    <tr>\n",
       "      <th>3274</th>\n",
       "      <td>AA</td>\n",
       "      <td>1</td>\n",
       "      <td>NaN</td>\n",
       "      <td>Full-time</td>\n",
       "      <td>50000.000000</td>\n",
       "      <td>75.94</td>\n",
       "      <td>2500</td>\n",
       "      <td>0.06</td>\n",
       "      <td>NaN</td>\n",
       "      <td>47500.000000</td>\n",
       "    </tr>\n",
       "    <tr>\n",
       "      <th>...</th>\n",
       "      <td>...</td>\n",
       "      <td>...</td>\n",
       "      <td>...</td>\n",
       "      <td>...</td>\n",
       "      <td>...</td>\n",
       "      <td>...</td>\n",
       "      <td>...</td>\n",
       "      <td>...</td>\n",
       "      <td>...</td>\n",
       "      <td>...</td>\n",
       "    </tr>\n",
       "    <tr>\n",
       "      <th>111265</th>\n",
       "      <td>NaN</td>\n",
       "      <td>1</td>\n",
       "      <td>9.0</td>\n",
       "      <td>Employed</td>\n",
       "      <td>108750.000000</td>\n",
       "      <td>325.47</td>\n",
       "      <td>12765</td>\n",
       "      <td>0.03</td>\n",
       "      <td>0.0599</td>\n",
       "      <td>95985.000000</td>\n",
       "    </tr>\n",
       "    <tr>\n",
       "      <th>111284</th>\n",
       "      <td>AA</td>\n",
       "      <td>1</td>\n",
       "      <td>NaN</td>\n",
       "      <td>Not available</td>\n",
       "      <td>23333.333333</td>\n",
       "      <td>61.75</td>\n",
       "      <td>2000</td>\n",
       "      <td>0.06</td>\n",
       "      <td>NaN</td>\n",
       "      <td>21333.333333</td>\n",
       "    </tr>\n",
       "    <tr>\n",
       "      <th>111772</th>\n",
       "      <td>AA</td>\n",
       "      <td>1</td>\n",
       "      <td>NaN</td>\n",
       "      <td>Full-time</td>\n",
       "      <td>21666.666667</td>\n",
       "      <td>30.88</td>\n",
       "      <td>1000</td>\n",
       "      <td>0.09</td>\n",
       "      <td>NaN</td>\n",
       "      <td>20666.666667</td>\n",
       "    </tr>\n",
       "    <tr>\n",
       "      <th>112776</th>\n",
       "      <td>NaN</td>\n",
       "      <td>1</td>\n",
       "      <td>2.0</td>\n",
       "      <td>Employed</td>\n",
       "      <td>29166.666667</td>\n",
       "      <td>371.76</td>\n",
       "      <td>4000</td>\n",
       "      <td>0.13</td>\n",
       "      <td>0.1175</td>\n",
       "      <td>25166.666667</td>\n",
       "    </tr>\n",
       "    <tr>\n",
       "      <th>113776</th>\n",
       "      <td>NaN</td>\n",
       "      <td>1</td>\n",
       "      <td>10.0</td>\n",
       "      <td>Employed</td>\n",
       "      <td>23750.000000</td>\n",
       "      <td>258.59</td>\n",
       "      <td>3000</td>\n",
       "      <td>0.10</td>\n",
       "      <td>0.0200</td>\n",
       "      <td>20750.000000</td>\n",
       "    </tr>\n",
       "  </tbody>\n",
       "</table>\n",
       "<p>164 rows × 10 columns</p>\n",
       "</div>"
      ],
      "text/plain": [
       "       CreditGrade  LoanStatus  ProsperScore EmploymentStatus  \\\n",
       "521              C           1           NaN        Full-time   \n",
       "1137           NaN           1           5.0         Employed   \n",
       "1304           NaN           1           8.0         Employed   \n",
       "1866           NaN           1           5.0    Self-employed   \n",
       "3274            AA           1           NaN        Full-time   \n",
       "...            ...         ...           ...              ...   \n",
       "111265         NaN           1           9.0         Employed   \n",
       "111284          AA           1           NaN    Not available   \n",
       "111772          AA           1           NaN        Full-time   \n",
       "112776         NaN           1           2.0         Employed   \n",
       "113776         NaN           1          10.0         Employed   \n",
       "\n",
       "        StatedMonthlyIncome  MonthlyLoanPayment  LoanOriginalAmount  \\\n",
       "521            30166.666667              177.52                5000   \n",
       "1137           37500.000000              173.71                4000   \n",
       "1304           31250.000000              361.47               10000   \n",
       "1866           41666.666667              274.17                3000   \n",
       "3274           50000.000000               75.94                2500   \n",
       "...                     ...                 ...                 ...   \n",
       "111265        108750.000000              325.47               12765   \n",
       "111284         23333.333333               61.75                2000   \n",
       "111772         21666.666667               30.88                1000   \n",
       "112776         29166.666667              371.76                4000   \n",
       "113776         23750.000000              258.59                3000   \n",
       "\n",
       "        DebtToIncomeRatio  EstimatedLoss  diff_income_loan  \n",
       "521                  0.16            NaN      25166.666667  \n",
       "1137                 0.14         0.1625      33500.000000  \n",
       "1304                 0.07         0.0595      21250.000000  \n",
       "1866                  NaN         0.0975      38666.666667  \n",
       "3274                 0.06            NaN      47500.000000  \n",
       "...                   ...            ...               ...  \n",
       "111265               0.03         0.0599      95985.000000  \n",
       "111284               0.06            NaN      21333.333333  \n",
       "111772               0.09            NaN      20666.666667  \n",
       "112776               0.13         0.1175      25166.666667  \n",
       "113776               0.10         0.0200      20750.000000  \n",
       "\n",
       "[164 rows x 10 columns]"
      ]
     },
     "execution_count": 35,
     "metadata": {},
     "output_type": "execute_result"
    }
   ],
   "source": [
    "df_loan2[df_loan2.diff_income_loan > 20000]"
   ]
  },
  {
   "cell_type": "code",
   "execution_count": 36,
   "metadata": {},
   "outputs": [],
   "source": [
    "# delete data that has diff_income_loan> 20000\n",
    "drop_index = df_loan2[df_loan2.diff_income_loan > 20000].index\n",
    "df_loan2.drop(drop_index, inplace=True)"
   ]
  },
  {
   "cell_type": "code",
   "execution_count": 37,
   "metadata": {},
   "outputs": [
    {
     "data": {
      "image/png": "[encoded data removed]",
      "text/plain": [
       "<Figure size 432x288 with 1 Axes>"
      ]
     },
     "metadata": {
      "needs_background": "light"
     },
     "output_type": "display_data"
    }
   ],
   "source": [
    "bins = np.arange(0, df_loan2.StatedMonthlyIncome.max()+2000, 2000)\n",
    "plt.hist(df_loan2.StatedMonthlyIncome, bins=bins);"
   ]
  },
  {
   "cell_type": "markdown",
   "metadata": {},
   "source": [
    "StateMonthlyIncome has right skewed distribution"
   ]
  },
  {
   "cell_type": "markdown",
   "metadata": {},
   "source": [
    "### MonthlyLoanPayment"
   ]
  },
  {
   "cell_type": "code",
   "execution_count": 38,
   "metadata": {},
   "outputs": [
    {
     "data": {
      "image/png": "[encoded data removed]",
      "text/plain": [
       "<Figure size 432x288 with 1 Axes>"
      ]
     },
     "metadata": {
      "needs_background": "light"
     },
     "output_type": "display_data"
    }
   ],
   "source": [
    "bins = np.arange(0, df_loan2.MonthlyLoanPayment.max()+100, 100)\n",
    "plt.hist(df_loan2.MonthlyLoanPayment, bins=bins);"
   ]
  },
  {
   "cell_type": "markdown",
   "metadata": {},
   "source": [
    "MonthlyLoanPayment has right skewed distribution"
   ]
  },
  {
   "cell_type": "markdown",
   "metadata": {},
   "source": [
    "### DebtToIncomeRatio"
   ]
  },
  {
   "cell_type": "code",
   "execution_count": 39,
   "metadata": {},
   "outputs": [
    {
     "data": {
      "image/png": "[encoded data removed]",
      "text/plain": [
       "<Figure size 432x288 with 1 Axes>"
      ]
     },
     "metadata": {
      "needs_background": "light"
     },
     "output_type": "display_data"
    }
   ],
   "source": [
    "bins = np.arange(0, df_loan2.DebtToIncomeRatio.max()+0.2, 0.2)\n",
    "plt.hist(df_loan2.DebtToIncomeRatio, bins=bins);"
   ]
  },
  {
   "cell_type": "code",
   "execution_count": 40,
   "metadata": {},
   "outputs": [
    {
     "data": {
      "text/html": [
       "<div>\n",
       "<style scoped>\n",
       "    .dataframe tbody tr th:only-of-type {\n",
       "        vertical-align: middle;\n",
       "    }\n",
       "\n",
       "    .dataframe tbody tr th {\n",
       "        vertical-align: top;\n",
       "    }\n",
       "\n",
       "    .dataframe thead th {\n",
       "        text-align: right;\n",
       "    }\n",
       "</style>\n",
       "<table border=\"1\" class=\"dataframe\">\n",
       "  <thead>\n",
       "    <tr style=\"text-align: right;\">\n",
       "      <th></th>\n",
       "      <th>CreditGrade</th>\n",
       "      <th>LoanStatus</th>\n",
       "      <th>ProsperScore</th>\n",
       "      <th>EmploymentStatus</th>\n",
       "      <th>StatedMonthlyIncome</th>\n",
       "      <th>MonthlyLoanPayment</th>\n",
       "      <th>LoanOriginalAmount</th>\n",
       "      <th>DebtToIncomeRatio</th>\n",
       "      <th>EstimatedLoss</th>\n",
       "      <th>diff_income_loan</th>\n",
       "    </tr>\n",
       "  </thead>\n",
       "  <tbody>\n",
       "    <tr>\n",
       "      <th>226</th>\n",
       "      <td>D</td>\n",
       "      <td>1</td>\n",
       "      <td>NaN</td>\n",
       "      <td>Full-time</td>\n",
       "      <td>0.083333</td>\n",
       "      <td>32.27</td>\n",
       "      <td>1000</td>\n",
       "      <td>10.01</td>\n",
       "      <td>NaN</td>\n",
       "      <td>-999.916667</td>\n",
       "    </tr>\n",
       "    <tr>\n",
       "      <th>576</th>\n",
       "      <td>AA</td>\n",
       "      <td>1</td>\n",
       "      <td>NaN</td>\n",
       "      <td>Retired</td>\n",
       "      <td>0.083333</td>\n",
       "      <td>47.94</td>\n",
       "      <td>1500</td>\n",
       "      <td>10.01</td>\n",
       "      <td>NaN</td>\n",
       "      <td>-1499.916667</td>\n",
       "    </tr>\n",
       "    <tr>\n",
       "      <th>1242</th>\n",
       "      <td>A</td>\n",
       "      <td>1</td>\n",
       "      <td>NaN</td>\n",
       "      <td>Not employed</td>\n",
       "      <td>0.083333</td>\n",
       "      <td>97.82</td>\n",
       "      <td>3000</td>\n",
       "      <td>10.01</td>\n",
       "      <td>NaN</td>\n",
       "      <td>-2999.916667</td>\n",
       "    </tr>\n",
       "    <tr>\n",
       "      <th>2155</th>\n",
       "      <td>NaN</td>\n",
       "      <td>1</td>\n",
       "      <td>8.0</td>\n",
       "      <td>Full-time</td>\n",
       "      <td>17083.333333</td>\n",
       "      <td>425.36</td>\n",
       "      <td>13500</td>\n",
       "      <td>10.01</td>\n",
       "      <td>0.015</td>\n",
       "      <td>3583.333333</td>\n",
       "    </tr>\n",
       "    <tr>\n",
       "      <th>2217</th>\n",
       "      <td>C</td>\n",
       "      <td>1</td>\n",
       "      <td>NaN</td>\n",
       "      <td>Not available</td>\n",
       "      <td>0.083333</td>\n",
       "      <td>245.13</td>\n",
       "      <td>7000</td>\n",
       "      <td>10.01</td>\n",
       "      <td>NaN</td>\n",
       "      <td>-6999.916667</td>\n",
       "    </tr>\n",
       "    <tr>\n",
       "      <th>...</th>\n",
       "      <td>...</td>\n",
       "      <td>...</td>\n",
       "      <td>...</td>\n",
       "      <td>...</td>\n",
       "      <td>...</td>\n",
       "      <td>...</td>\n",
       "      <td>...</td>\n",
       "      <td>...</td>\n",
       "      <td>...</td>\n",
       "      <td>...</td>\n",
       "    </tr>\n",
       "    <tr>\n",
       "      <th>111146</th>\n",
       "      <td>C</td>\n",
       "      <td>1</td>\n",
       "      <td>NaN</td>\n",
       "      <td>Self-employed</td>\n",
       "      <td>0.083333</td>\n",
       "      <td>142.48</td>\n",
       "      <td>3999</td>\n",
       "      <td>10.01</td>\n",
       "      <td>NaN</td>\n",
       "      <td>-3998.916667</td>\n",
       "    </tr>\n",
       "    <tr>\n",
       "      <th>111321</th>\n",
       "      <td>A</td>\n",
       "      <td>1</td>\n",
       "      <td>NaN</td>\n",
       "      <td>Self-employed</td>\n",
       "      <td>0.083333</td>\n",
       "      <td>351.57</td>\n",
       "      <td>10000</td>\n",
       "      <td>10.01</td>\n",
       "      <td>NaN</td>\n",
       "      <td>-9999.916667</td>\n",
       "    </tr>\n",
       "    <tr>\n",
       "      <th>112308</th>\n",
       "      <td>A</td>\n",
       "      <td>1</td>\n",
       "      <td>NaN</td>\n",
       "      <td>Self-employed</td>\n",
       "      <td>0.083333</td>\n",
       "      <td>210.39</td>\n",
       "      <td>6001</td>\n",
       "      <td>10.01</td>\n",
       "      <td>NaN</td>\n",
       "      <td>-6000.916667</td>\n",
       "    </tr>\n",
       "    <tr>\n",
       "      <th>112712</th>\n",
       "      <td>D</td>\n",
       "      <td>0</td>\n",
       "      <td>NaN</td>\n",
       "      <td>Full-time</td>\n",
       "      <td>0.083333</td>\n",
       "      <td>111.81</td>\n",
       "      <td>2850</td>\n",
       "      <td>10.01</td>\n",
       "      <td>NaN</td>\n",
       "      <td>-2849.916667</td>\n",
       "    </tr>\n",
       "    <tr>\n",
       "      <th>113626</th>\n",
       "      <td>A</td>\n",
       "      <td>1</td>\n",
       "      <td>NaN</td>\n",
       "      <td>NaN</td>\n",
       "      <td>0.083333</td>\n",
       "      <td>891.32</td>\n",
       "      <td>25000</td>\n",
       "      <td>10.01</td>\n",
       "      <td>NaN</td>\n",
       "      <td>-24999.916667</td>\n",
       "    </tr>\n",
       "  </tbody>\n",
       "</table>\n",
       "<p>241 rows × 10 columns</p>\n",
       "</div>"
      ],
      "text/plain": [
       "       CreditGrade  LoanStatus  ProsperScore EmploymentStatus  \\\n",
       "226              D           1           NaN        Full-time   \n",
       "576             AA           1           NaN          Retired   \n",
       "1242             A           1           NaN     Not employed   \n",
       "2155           NaN           1           8.0        Full-time   \n",
       "2217             C           1           NaN    Not available   \n",
       "...            ...         ...           ...              ...   \n",
       "111146           C           1           NaN    Self-employed   \n",
       "111321           A           1           NaN    Self-employed   \n",
       "112308           A           1           NaN    Self-employed   \n",
       "112712           D           0           NaN        Full-time   \n",
       "113626           A           1           NaN              NaN   \n",
       "\n",
       "        StatedMonthlyIncome  MonthlyLoanPayment  LoanOriginalAmount  \\\n",
       "226                0.083333               32.27                1000   \n",
       "576                0.083333               47.94                1500   \n",
       "1242               0.083333               97.82                3000   \n",
       "2155           17083.333333              425.36               13500   \n",
       "2217               0.083333              245.13                7000   \n",
       "...                     ...                 ...                 ...   \n",
       "111146             0.083333              142.48                3999   \n",
       "111321             0.083333              351.57               10000   \n",
       "112308             0.083333              210.39                6001   \n",
       "112712             0.083333              111.81                2850   \n",
       "113626             0.083333              891.32               25000   \n",
       "\n",
       "        DebtToIncomeRatio  EstimatedLoss  diff_income_loan  \n",
       "226                 10.01            NaN       -999.916667  \n",
       "576                 10.01            NaN      -1499.916667  \n",
       "1242                10.01            NaN      -2999.916667  \n",
       "2155                10.01          0.015       3583.333333  \n",
       "2217                10.01            NaN      -6999.916667  \n",
       "...                   ...            ...               ...  \n",
       "111146              10.01            NaN      -3998.916667  \n",
       "111321              10.01            NaN      -9999.916667  \n",
       "112308              10.01            NaN      -6000.916667  \n",
       "112712              10.01            NaN      -2849.916667  \n",
       "113626              10.01            NaN     -24999.916667  \n",
       "\n",
       "[241 rows x 10 columns]"
      ]
     },
     "execution_count": 40,
     "metadata": {},
     "output_type": "execute_result"
    }
   ],
   "source": [
    "df_loan2[df_loan2.DebtToIncomeRatio > 5]"
   ]
  },
  {
   "cell_type": "markdown",
   "metadata": {},
   "source": [
    "There is a StatedMonthlyIncome value of less than 1 dollar. It is impossible for people to survive on a gross income per month of less than 1 dollar. In addition, some data have good credit grade and full-time employed status. This might be a data input error or another error might occur."
   ]
  },
  {
   "cell_type": "code",
   "execution_count": 41,
   "metadata": {
    "scrolled": true
   },
   "outputs": [
    {
     "data": {
      "text/html": [
       "<div>\n",
       "<style scoped>\n",
       "    .dataframe tbody tr th:only-of-type {\n",
       "        vertical-align: middle;\n",
       "    }\n",
       "\n",
       "    .dataframe tbody tr th {\n",
       "        vertical-align: top;\n",
       "    }\n",
       "\n",
       "    .dataframe thead th {\n",
       "        text-align: right;\n",
       "    }\n",
       "</style>\n",
       "<table border=\"1\" class=\"dataframe\">\n",
       "  <thead>\n",
       "    <tr style=\"text-align: right;\">\n",
       "      <th></th>\n",
       "      <th>CreditGrade</th>\n",
       "      <th>LoanStatus</th>\n",
       "      <th>ProsperScore</th>\n",
       "      <th>EmploymentStatus</th>\n",
       "      <th>StatedMonthlyIncome</th>\n",
       "      <th>MonthlyLoanPayment</th>\n",
       "      <th>LoanOriginalAmount</th>\n",
       "      <th>DebtToIncomeRatio</th>\n",
       "      <th>EstimatedLoss</th>\n",
       "      <th>diff_income_loan</th>\n",
       "    </tr>\n",
       "  </thead>\n",
       "  <tbody>\n",
       "    <tr>\n",
       "      <th>78</th>\n",
       "      <td>A</td>\n",
       "      <td>0</td>\n",
       "      <td>NaN</td>\n",
       "      <td>Full-time</td>\n",
       "      <td>0.000000</td>\n",
       "      <td>171.13</td>\n",
       "      <td>4800</td>\n",
       "      <td>NaN</td>\n",
       "      <td>NaN</td>\n",
       "      <td>-4800.000000</td>\n",
       "    </tr>\n",
       "    <tr>\n",
       "      <th>100</th>\n",
       "      <td>NaN</td>\n",
       "      <td>0</td>\n",
       "      <td>3.0</td>\n",
       "      <td>Not employed</td>\n",
       "      <td>0.000000</td>\n",
       "      <td>172.76</td>\n",
       "      <td>4000</td>\n",
       "      <td>NaN</td>\n",
       "      <td>0.1575</td>\n",
       "      <td>-4000.000000</td>\n",
       "    </tr>\n",
       "    <tr>\n",
       "      <th>108</th>\n",
       "      <td>C</td>\n",
       "      <td>1</td>\n",
       "      <td>NaN</td>\n",
       "      <td>Full-time</td>\n",
       "      <td>0.000000</td>\n",
       "      <td>564.07</td>\n",
       "      <td>14000</td>\n",
       "      <td>NaN</td>\n",
       "      <td>NaN</td>\n",
       "      <td>-14000.000000</td>\n",
       "    </tr>\n",
       "    <tr>\n",
       "      <th>146</th>\n",
       "      <td>A</td>\n",
       "      <td>1</td>\n",
       "      <td>NaN</td>\n",
       "      <td>NaN</td>\n",
       "      <td>0.083333</td>\n",
       "      <td>127.66</td>\n",
       "      <td>4000</td>\n",
       "      <td>0.07</td>\n",
       "      <td>NaN</td>\n",
       "      <td>-3999.916667</td>\n",
       "    </tr>\n",
       "    <tr>\n",
       "      <th>170</th>\n",
       "      <td>NaN</td>\n",
       "      <td>1</td>\n",
       "      <td>5.0</td>\n",
       "      <td>Not employed</td>\n",
       "      <td>0.000000</td>\n",
       "      <td>397.55</td>\n",
       "      <td>10000</td>\n",
       "      <td>NaN</td>\n",
       "      <td>0.1190</td>\n",
       "      <td>-10000.000000</td>\n",
       "    </tr>\n",
       "    <tr>\n",
       "      <th>...</th>\n",
       "      <td>...</td>\n",
       "      <td>...</td>\n",
       "      <td>...</td>\n",
       "      <td>...</td>\n",
       "      <td>...</td>\n",
       "      <td>...</td>\n",
       "      <td>...</td>\n",
       "      <td>...</td>\n",
       "      <td>...</td>\n",
       "      <td>...</td>\n",
       "    </tr>\n",
       "    <tr>\n",
       "      <th>113622</th>\n",
       "      <td>NaN</td>\n",
       "      <td>0</td>\n",
       "      <td>6.0</td>\n",
       "      <td>Not employed</td>\n",
       "      <td>0.000000</td>\n",
       "      <td>171.08</td>\n",
       "      <td>4000</td>\n",
       "      <td>NaN</td>\n",
       "      <td>0.1470</td>\n",
       "      <td>-4000.000000</td>\n",
       "    </tr>\n",
       "    <tr>\n",
       "      <th>113626</th>\n",
       "      <td>A</td>\n",
       "      <td>1</td>\n",
       "      <td>NaN</td>\n",
       "      <td>NaN</td>\n",
       "      <td>0.083333</td>\n",
       "      <td>891.32</td>\n",
       "      <td>25000</td>\n",
       "      <td>10.01</td>\n",
       "      <td>NaN</td>\n",
       "      <td>-24999.916667</td>\n",
       "    </tr>\n",
       "    <tr>\n",
       "      <th>113682</th>\n",
       "      <td>NaN</td>\n",
       "      <td>0</td>\n",
       "      <td>5.0</td>\n",
       "      <td>Not employed</td>\n",
       "      <td>0.000000</td>\n",
       "      <td>323.35</td>\n",
       "      <td>10000</td>\n",
       "      <td>NaN</td>\n",
       "      <td>0.1190</td>\n",
       "      <td>-10000.000000</td>\n",
       "    </tr>\n",
       "    <tr>\n",
       "      <th>113686</th>\n",
       "      <td>A</td>\n",
       "      <td>1</td>\n",
       "      <td>NaN</td>\n",
       "      <td>Full-time</td>\n",
       "      <td>0.000000</td>\n",
       "      <td>560.21</td>\n",
       "      <td>14900</td>\n",
       "      <td>NaN</td>\n",
       "      <td>NaN</td>\n",
       "      <td>-14900.000000</td>\n",
       "    </tr>\n",
       "    <tr>\n",
       "      <th>113767</th>\n",
       "      <td>HR</td>\n",
       "      <td>0</td>\n",
       "      <td>NaN</td>\n",
       "      <td>Self-employed</td>\n",
       "      <td>0.000000</td>\n",
       "      <td>224.77</td>\n",
       "      <td>5000</td>\n",
       "      <td>NaN</td>\n",
       "      <td>NaN</td>\n",
       "      <td>-5000.000000</td>\n",
       "    </tr>\n",
       "  </tbody>\n",
       "</table>\n",
       "<p>1236 rows × 10 columns</p>\n",
       "</div>"
      ],
      "text/plain": [
       "       CreditGrade  LoanStatus  ProsperScore EmploymentStatus  \\\n",
       "78               A           0           NaN        Full-time   \n",
       "100            NaN           0           3.0     Not employed   \n",
       "108              C           1           NaN        Full-time   \n",
       "146              A           1           NaN              NaN   \n",
       "170            NaN           1           5.0     Not employed   \n",
       "...            ...         ...           ...              ...   \n",
       "113622         NaN           0           6.0     Not employed   \n",
       "113626           A           1           NaN              NaN   \n",
       "113682         NaN           0           5.0     Not employed   \n",
       "113686           A           1           NaN        Full-time   \n",
       "113767          HR           0           NaN    Self-employed   \n",
       "\n",
       "        StatedMonthlyIncome  MonthlyLoanPayment  LoanOriginalAmount  \\\n",
       "78                 0.000000              171.13                4800   \n",
       "100                0.000000              172.76                4000   \n",
       "108                0.000000              564.07               14000   \n",
       "146                0.083333              127.66                4000   \n",
       "170                0.000000              397.55               10000   \n",
       "...                     ...                 ...                 ...   \n",
       "113622             0.000000              171.08                4000   \n",
       "113626             0.083333              891.32               25000   \n",
       "113682             0.000000              323.35               10000   \n",
       "113686             0.000000              560.21               14900   \n",
       "113767             0.000000              224.77                5000   \n",
       "\n",
       "        DebtToIncomeRatio  EstimatedLoss  diff_income_loan  \n",
       "78                    NaN            NaN      -4800.000000  \n",
       "100                   NaN         0.1575      -4000.000000  \n",
       "108                   NaN            NaN     -14000.000000  \n",
       "146                  0.07            NaN      -3999.916667  \n",
       "170                   NaN         0.1190     -10000.000000  \n",
       "...                   ...            ...               ...  \n",
       "113622                NaN         0.1470      -4000.000000  \n",
       "113626              10.01            NaN     -24999.916667  \n",
       "113682                NaN         0.1190     -10000.000000  \n",
       "113686                NaN            NaN     -14900.000000  \n",
       "113767                NaN            NaN      -5000.000000  \n",
       "\n",
       "[1236 rows x 10 columns]"
      ]
     },
     "execution_count": 41,
     "metadata": {},
     "output_type": "execute_result"
    }
   ],
   "source": [
    "df_loan2[df_loan2.StatedMonthlyIncome < 1]"
   ]
  },
  {
   "cell_type": "code",
   "execution_count": 42,
   "metadata": {},
   "outputs": [
    {
     "data": {
      "text/html": [
       "<div>\n",
       "<style scoped>\n",
       "    .dataframe tbody tr th:only-of-type {\n",
       "        vertical-align: middle;\n",
       "    }\n",
       "\n",
       "    .dataframe tbody tr th {\n",
       "        vertical-align: top;\n",
       "    }\n",
       "\n",
       "    .dataframe thead th {\n",
       "        text-align: right;\n",
       "    }\n",
       "</style>\n",
       "<table border=\"1\" class=\"dataframe\">\n",
       "  <thead>\n",
       "    <tr style=\"text-align: right;\">\n",
       "      <th></th>\n",
       "      <th>CreditGrade</th>\n",
       "      <th>LoanStatus</th>\n",
       "      <th>ProsperScore</th>\n",
       "      <th>EmploymentStatus</th>\n",
       "      <th>StatedMonthlyIncome</th>\n",
       "      <th>MonthlyLoanPayment</th>\n",
       "      <th>LoanOriginalAmount</th>\n",
       "      <th>DebtToIncomeRatio</th>\n",
       "      <th>EstimatedLoss</th>\n",
       "      <th>diff_income_loan</th>\n",
       "    </tr>\n",
       "  </thead>\n",
       "  <tbody>\n",
       "    <tr>\n",
       "      <th>2138</th>\n",
       "      <td>C</td>\n",
       "      <td>1</td>\n",
       "      <td>NaN</td>\n",
       "      <td>Full-time</td>\n",
       "      <td>3.333333</td>\n",
       "      <td>56.51</td>\n",
       "      <td>1500</td>\n",
       "      <td>NaN</td>\n",
       "      <td>NaN</td>\n",
       "      <td>-1496.666667</td>\n",
       "    </tr>\n",
       "    <tr>\n",
       "      <th>3300</th>\n",
       "      <td>NaN</td>\n",
       "      <td>0</td>\n",
       "      <td>4.0</td>\n",
       "      <td>Employed</td>\n",
       "      <td>8.333333</td>\n",
       "      <td>173.71</td>\n",
       "      <td>4000</td>\n",
       "      <td>NaN</td>\n",
       "      <td>0.1650</td>\n",
       "      <td>-3991.666667</td>\n",
       "    </tr>\n",
       "    <tr>\n",
       "      <th>5806</th>\n",
       "      <td>NaN</td>\n",
       "      <td>1</td>\n",
       "      <td>3.0</td>\n",
       "      <td>Employed</td>\n",
       "      <td>5.833333</td>\n",
       "      <td>86.85</td>\n",
       "      <td>2000</td>\n",
       "      <td>10.01</td>\n",
       "      <td>0.1625</td>\n",
       "      <td>-1994.166667</td>\n",
       "    </tr>\n",
       "    <tr>\n",
       "      <th>8748</th>\n",
       "      <td>NaN</td>\n",
       "      <td>0</td>\n",
       "      <td>6.0</td>\n",
       "      <td>Employed</td>\n",
       "      <td>1.833333</td>\n",
       "      <td>131.00</td>\n",
       "      <td>3000</td>\n",
       "      <td>10.01</td>\n",
       "      <td>0.1420</td>\n",
       "      <td>-2998.166667</td>\n",
       "    </tr>\n",
       "    <tr>\n",
       "      <th>19270</th>\n",
       "      <td>A</td>\n",
       "      <td>1</td>\n",
       "      <td>NaN</td>\n",
       "      <td>Full-time</td>\n",
       "      <td>2.500000</td>\n",
       "      <td>377.86</td>\n",
       "      <td>11500</td>\n",
       "      <td>0.47</td>\n",
       "      <td>NaN</td>\n",
       "      <td>-11497.500000</td>\n",
       "    </tr>\n",
       "    <tr>\n",
       "      <th>20820</th>\n",
       "      <td>NaN</td>\n",
       "      <td>1</td>\n",
       "      <td>5.0</td>\n",
       "      <td>Self-employed</td>\n",
       "      <td>5.416667</td>\n",
       "      <td>473.39</td>\n",
       "      <td>15000</td>\n",
       "      <td>NaN</td>\n",
       "      <td>0.1190</td>\n",
       "      <td>-14994.583333</td>\n",
       "    </tr>\n",
       "    <tr>\n",
       "      <th>21647</th>\n",
       "      <td>NaN</td>\n",
       "      <td>1</td>\n",
       "      <td>6.0</td>\n",
       "      <td>Employed</td>\n",
       "      <td>4.166667</td>\n",
       "      <td>369.31</td>\n",
       "      <td>4000</td>\n",
       "      <td>NaN</td>\n",
       "      <td>0.1070</td>\n",
       "      <td>-3995.833333</td>\n",
       "    </tr>\n",
       "    <tr>\n",
       "      <th>26112</th>\n",
       "      <td>NaN</td>\n",
       "      <td>1</td>\n",
       "      <td>4.0</td>\n",
       "      <td>Full-time</td>\n",
       "      <td>2.416667</td>\n",
       "      <td>95.81</td>\n",
       "      <td>2200</td>\n",
       "      <td>10.01</td>\n",
       "      <td>0.1830</td>\n",
       "      <td>-2197.583333</td>\n",
       "    </tr>\n",
       "    <tr>\n",
       "      <th>27006</th>\n",
       "      <td>B</td>\n",
       "      <td>1</td>\n",
       "      <td>NaN</td>\n",
       "      <td>Full-time</td>\n",
       "      <td>4.166667</td>\n",
       "      <td>391.35</td>\n",
       "      <td>9730</td>\n",
       "      <td>NaN</td>\n",
       "      <td>NaN</td>\n",
       "      <td>-9725.833333</td>\n",
       "    </tr>\n",
       "    <tr>\n",
       "      <th>40657</th>\n",
       "      <td>NaN</td>\n",
       "      <td>1</td>\n",
       "      <td>4.0</td>\n",
       "      <td>Self-employed</td>\n",
       "      <td>5.000000</td>\n",
       "      <td>173.71</td>\n",
       "      <td>4000</td>\n",
       "      <td>NaN</td>\n",
       "      <td>0.1650</td>\n",
       "      <td>-3995.000000</td>\n",
       "    </tr>\n",
       "    <tr>\n",
       "      <th>42606</th>\n",
       "      <td>NaN</td>\n",
       "      <td>0</td>\n",
       "      <td>6.0</td>\n",
       "      <td>Employed</td>\n",
       "      <td>3.750000</td>\n",
       "      <td>220.92</td>\n",
       "      <td>7000</td>\n",
       "      <td>10.01</td>\n",
       "      <td>0.1190</td>\n",
       "      <td>-6996.250000</td>\n",
       "    </tr>\n",
       "    <tr>\n",
       "      <th>49287</th>\n",
       "      <td>NaN</td>\n",
       "      <td>1</td>\n",
       "      <td>6.0</td>\n",
       "      <td>Other</td>\n",
       "      <td>3.000000</td>\n",
       "      <td>127.78</td>\n",
       "      <td>5000</td>\n",
       "      <td>10.01</td>\n",
       "      <td>0.0420</td>\n",
       "      <td>-4997.000000</td>\n",
       "    </tr>\n",
       "    <tr>\n",
       "      <th>51505</th>\n",
       "      <td>B</td>\n",
       "      <td>0</td>\n",
       "      <td>NaN</td>\n",
       "      <td>Full-time</td>\n",
       "      <td>3.583333</td>\n",
       "      <td>171.37</td>\n",
       "      <td>5000</td>\n",
       "      <td>10.01</td>\n",
       "      <td>NaN</td>\n",
       "      <td>-4996.416667</td>\n",
       "    </tr>\n",
       "    <tr>\n",
       "      <th>58658</th>\n",
       "      <td>NaN</td>\n",
       "      <td>0</td>\n",
       "      <td>2.0</td>\n",
       "      <td>Employed</td>\n",
       "      <td>5.416667</td>\n",
       "      <td>174.20</td>\n",
       "      <td>4000</td>\n",
       "      <td>10.01</td>\n",
       "      <td>0.1650</td>\n",
       "      <td>-3994.583333</td>\n",
       "    </tr>\n",
       "    <tr>\n",
       "      <th>61112</th>\n",
       "      <td>NaN</td>\n",
       "      <td>0</td>\n",
       "      <td>5.0</td>\n",
       "      <td>Employed</td>\n",
       "      <td>4.333333</td>\n",
       "      <td>279.20</td>\n",
       "      <td>8550</td>\n",
       "      <td>10.01</td>\n",
       "      <td>0.1120</td>\n",
       "      <td>-8545.666667</td>\n",
       "    </tr>\n",
       "    <tr>\n",
       "      <th>63426</th>\n",
       "      <td>NaN</td>\n",
       "      <td>1</td>\n",
       "      <td>3.0</td>\n",
       "      <td>Employed</td>\n",
       "      <td>7.083333</td>\n",
       "      <td>173.71</td>\n",
       "      <td>4000</td>\n",
       "      <td>10.01</td>\n",
       "      <td>0.1625</td>\n",
       "      <td>-3992.916667</td>\n",
       "    </tr>\n",
       "    <tr>\n",
       "      <th>70679</th>\n",
       "      <td>NaN</td>\n",
       "      <td>1</td>\n",
       "      <td>4.0</td>\n",
       "      <td>Employed</td>\n",
       "      <td>2.500000</td>\n",
       "      <td>173.71</td>\n",
       "      <td>4000</td>\n",
       "      <td>10.01</td>\n",
       "      <td>0.1625</td>\n",
       "      <td>-3997.500000</td>\n",
       "    </tr>\n",
       "    <tr>\n",
       "      <th>78307</th>\n",
       "      <td>NaN</td>\n",
       "      <td>1</td>\n",
       "      <td>5.0</td>\n",
       "      <td>Employed</td>\n",
       "      <td>4.166667</td>\n",
       "      <td>400.79</td>\n",
       "      <td>4500</td>\n",
       "      <td>NaN</td>\n",
       "      <td>0.0574</td>\n",
       "      <td>-4495.833333</td>\n",
       "    </tr>\n",
       "    <tr>\n",
       "      <th>81157</th>\n",
       "      <td>HR</td>\n",
       "      <td>0</td>\n",
       "      <td>NaN</td>\n",
       "      <td>Not available</td>\n",
       "      <td>6.083333</td>\n",
       "      <td>80.58</td>\n",
       "      <td>2000</td>\n",
       "      <td>10.01</td>\n",
       "      <td>NaN</td>\n",
       "      <td>-1993.916667</td>\n",
       "    </tr>\n",
       "    <tr>\n",
       "      <th>83402</th>\n",
       "      <td>NaN</td>\n",
       "      <td>0</td>\n",
       "      <td>3.0</td>\n",
       "      <td>Other</td>\n",
       "      <td>3.333333</td>\n",
       "      <td>130.28</td>\n",
       "      <td>3000</td>\n",
       "      <td>10.01</td>\n",
       "      <td>0.1650</td>\n",
       "      <td>-2996.666667</td>\n",
       "    </tr>\n",
       "    <tr>\n",
       "      <th>86734</th>\n",
       "      <td>NaN</td>\n",
       "      <td>1</td>\n",
       "      <td>8.0</td>\n",
       "      <td>Employed</td>\n",
       "      <td>3.750000</td>\n",
       "      <td>721.17</td>\n",
       "      <td>10000</td>\n",
       "      <td>10.01</td>\n",
       "      <td>0.0574</td>\n",
       "      <td>-9996.250000</td>\n",
       "    </tr>\n",
       "    <tr>\n",
       "      <th>99260</th>\n",
       "      <td>NaN</td>\n",
       "      <td>0</td>\n",
       "      <td>6.0</td>\n",
       "      <td>Employed</td>\n",
       "      <td>5.833333</td>\n",
       "      <td>326.56</td>\n",
       "      <td>8000</td>\n",
       "      <td>10.01</td>\n",
       "      <td>0.1120</td>\n",
       "      <td>-7994.166667</td>\n",
       "    </tr>\n",
       "    <tr>\n",
       "      <th>103735</th>\n",
       "      <td>NaN</td>\n",
       "      <td>0</td>\n",
       "      <td>1.0</td>\n",
       "      <td>Employed</td>\n",
       "      <td>6.083333</td>\n",
       "      <td>326.62</td>\n",
       "      <td>7500</td>\n",
       "      <td>10.01</td>\n",
       "      <td>0.1470</td>\n",
       "      <td>-7493.916667</td>\n",
       "    </tr>\n",
       "    <tr>\n",
       "      <th>105343</th>\n",
       "      <td>NaN</td>\n",
       "      <td>1</td>\n",
       "      <td>5.0</td>\n",
       "      <td>Other</td>\n",
       "      <td>1.916667</td>\n",
       "      <td>108.57</td>\n",
       "      <td>2500</td>\n",
       "      <td>10.01</td>\n",
       "      <td>0.1650</td>\n",
       "      <td>-2498.083333</td>\n",
       "    </tr>\n",
       "  </tbody>\n",
       "</table>\n",
       "</div>"
      ],
      "text/plain": [
       "       CreditGrade  LoanStatus  ProsperScore EmploymentStatus  \\\n",
       "2138             C           1           NaN        Full-time   \n",
       "3300           NaN           0           4.0         Employed   \n",
       "5806           NaN           1           3.0         Employed   \n",
       "8748           NaN           0           6.0         Employed   \n",
       "19270            A           1           NaN        Full-time   \n",
       "20820          NaN           1           5.0    Self-employed   \n",
       "21647          NaN           1           6.0         Employed   \n",
       "26112          NaN           1           4.0        Full-time   \n",
       "27006            B           1           NaN        Full-time   \n",
       "40657          NaN           1           4.0    Self-employed   \n",
       "42606          NaN           0           6.0         Employed   \n",
       "49287          NaN           1           6.0            Other   \n",
       "51505            B           0           NaN        Full-time   \n",
       "58658          NaN           0           2.0         Employed   \n",
       "61112          NaN           0           5.0         Employed   \n",
       "63426          NaN           1           3.0         Employed   \n",
       "70679          NaN           1           4.0         Employed   \n",
       "78307          NaN           1           5.0         Employed   \n",
       "81157           HR           0           NaN    Not available   \n",
       "83402          NaN           0           3.0            Other   \n",
       "86734          NaN           1           8.0         Employed   \n",
       "99260          NaN           0           6.0         Employed   \n",
       "103735         NaN           0           1.0         Employed   \n",
       "105343         NaN           1           5.0            Other   \n",
       "\n",
       "        StatedMonthlyIncome  MonthlyLoanPayment  LoanOriginalAmount  \\\n",
       "2138               3.333333               56.51                1500   \n",
       "3300               8.333333              173.71                4000   \n",
       "5806               5.833333               86.85                2000   \n",
       "8748               1.833333              131.00                3000   \n",
       "19270              2.500000              377.86               11500   \n",
       "20820              5.416667              473.39               15000   \n",
       "21647              4.166667              369.31                4000   \n",
       "26112              2.416667               95.81                2200   \n",
       "27006              4.166667              391.35                9730   \n",
       "40657              5.000000              173.71                4000   \n",
       "42606              3.750000              220.92                7000   \n",
       "49287              3.000000              127.78                5000   \n",
       "51505              3.583333              171.37                5000   \n",
       "58658              5.416667              174.20                4000   \n",
       "61112              4.333333              279.20                8550   \n",
       "63426              7.083333              173.71                4000   \n",
       "70679              2.500000              173.71                4000   \n",
       "78307              4.166667              400.79                4500   \n",
       "81157              6.083333               80.58                2000   \n",
       "83402              3.333333              130.28                3000   \n",
       "86734              3.750000              721.17               10000   \n",
       "99260              5.833333              326.56                8000   \n",
       "103735             6.083333              326.62                7500   \n",
       "105343             1.916667              108.57                2500   \n",
       "\n",
       "        DebtToIncomeRatio  EstimatedLoss  diff_income_loan  \n",
       "2138                  NaN            NaN      -1496.666667  \n",
       "3300                  NaN         0.1650      -3991.666667  \n",
       "5806                10.01         0.1625      -1994.166667  \n",
       "8748                10.01         0.1420      -2998.166667  \n",
       "19270                0.47            NaN     -11497.500000  \n",
       "20820                 NaN         0.1190     -14994.583333  \n",
       "21647                 NaN         0.1070      -3995.833333  \n",
       "26112               10.01         0.1830      -2197.583333  \n",
       "27006                 NaN            NaN      -9725.833333  \n",
       "40657                 NaN         0.1650      -3995.000000  \n",
       "42606               10.01         0.1190      -6996.250000  \n",
       "49287               10.01         0.0420      -4997.000000  \n",
       "51505               10.01            NaN      -4996.416667  \n",
       "58658               10.01         0.1650      -3994.583333  \n",
       "61112               10.01         0.1120      -8545.666667  \n",
       "63426               10.01         0.1625      -3992.916667  \n",
       "70679               10.01         0.1625      -3997.500000  \n",
       "78307                 NaN         0.0574      -4495.833333  \n",
       "81157               10.01            NaN      -1993.916667  \n",
       "83402               10.01         0.1650      -2996.666667  \n",
       "86734               10.01         0.0574      -9996.250000  \n",
       "99260               10.01         0.1120      -7994.166667  \n",
       "103735              10.01         0.1470      -7493.916667  \n",
       "105343              10.01         0.1650      -2498.083333  "
      ]
     },
     "execution_count": 42,
     "metadata": {},
     "output_type": "execute_result"
    }
   ],
   "source": [
    "df_loan2[(df_loan2.StatedMonthlyIncome > 1) & (df_loan2.StatedMonthlyIncome < 10)]"
   ]
  },
  {
   "cell_type": "markdown",
   "metadata": {},
   "source": [
    "I will delete the data with a monthly income of less than 10 dollars. Because I assume it is impossible for someone to earn 10 dollars in the United States, and also dare to make loans far greater than their monthly income."
   ]
  },
  {
   "cell_type": "code",
   "execution_count": 43,
   "metadata": {},
   "outputs": [],
   "source": [
    "# delete data that has statedmonthlyincome <10\n",
    "drop_index = df_loan2[df_loan2.StatedMonthlyIncome < 10].index\n",
    "df_loan2.drop(drop_index, inplace=True)"
   ]
  },
  {
   "cell_type": "markdown",
   "metadata": {},
   "source": [
    "### DebtToIncomeRatio"
   ]
  },
  {
   "cell_type": "code",
   "execution_count": 44,
   "metadata": {},
   "outputs": [
    {
     "data": {
      "image/png": "[encoded data removed]",
      "text/plain": [
       "<Figure size 432x288 with 1 Axes>"
      ]
     },
     "metadata": {
      "needs_background": "light"
     },
     "output_type": "display_data"
    }
   ],
   "source": [
    "bins = np.arange(0, df_loan2.DebtToIncomeRatio.max()+0.05, 0.05)\n",
    "plt.hist(df_loan2.DebtToIncomeRatio, bins=bins)\n",
    "plt.axvline(df_loan2.DebtToIncomeRatio.median(), color='red')\n",
    "plt.xlim(0, 1);"
   ]
  },
  {
   "cell_type": "markdown",
   "metadata": {},
   "source": [
    "DebtToIncomeRatio has right skewed distribution"
   ]
  },
  {
   "cell_type": "markdown",
   "metadata": {},
   "source": [
    "### EstimatedLoss"
   ]
  },
  {
   "cell_type": "code",
   "execution_count": 45,
   "metadata": {},
   "outputs": [
    {
     "data": {
      "image/png": "[encoded data removed]",
      "text/plain": [
       "<Figure size 432x288 with 1 Axes>"
      ]
     },
     "metadata": {
      "needs_background": "light"
     },
     "output_type": "display_data"
    }
   ],
   "source": [
    "plt.hist(df_loan2.EstimatedLoss)\n",
    "plt.xlim(0, 0.35);"
   ]
  },
  {
   "cell_type": "markdown",
   "metadata": {},
   "source": [
    "Estimated loss variables are relatively normally distributed"
   ]
  },
  {
   "cell_type": "markdown",
   "metadata": {},
   "source": [
    "### Save data that has been cleaned"
   ]
  },
  {
   "cell_type": "code",
   "execution_count": 46,
   "metadata": {},
   "outputs": [
    {
     "data": {
      "text/plain": [
       "(48642, 10)"
      ]
     },
     "execution_count": 46,
     "metadata": {},
     "output_type": "execute_result"
    }
   ],
   "source": [
    "df_loan2.shape"
   ]
  },
  {
   "cell_type": "code",
   "execution_count": 47,
   "metadata": {},
   "outputs": [],
   "source": [
    "# copy data that have loanStatus = 1\n",
    "temporary_data = df_loan2.query('LoanStatus == 1').copy()"
   ]
  },
  {
   "cell_type": "code",
   "execution_count": 48,
   "metadata": {},
   "outputs": [
    {
     "data": {
      "text/plain": [
       "(37101, 10)"
      ]
     },
     "execution_count": 48,
     "metadata": {},
     "output_type": "execute_result"
    }
   ],
   "source": [
    "temporary_data.shape"
   ]
  },
  {
   "cell_type": "code",
   "execution_count": 49,
   "metadata": {},
   "outputs": [],
   "source": [
    "# taking data samples as much as the amount of data with LoanStatus 1\n",
    "random.seed(102)\n",
    "sample = temporary_data.sample(11541, replace=False)"
   ]
  },
  {
   "cell_type": "code",
   "execution_count": 50,
   "metadata": {},
   "outputs": [
    {
     "data": {
      "text/html": [
       "<div>\n",
       "<style scoped>\n",
       "    .dataframe tbody tr th:only-of-type {\n",
       "        vertical-align: middle;\n",
       "    }\n",
       "\n",
       "    .dataframe tbody tr th {\n",
       "        vertical-align: top;\n",
       "    }\n",
       "\n",
       "    .dataframe thead th {\n",
       "        text-align: right;\n",
       "    }\n",
       "</style>\n",
       "<table border=\"1\" class=\"dataframe\">\n",
       "  <thead>\n",
       "    <tr style=\"text-align: right;\">\n",
       "      <th></th>\n",
       "      <th>CreditGrade</th>\n",
       "      <th>LoanStatus</th>\n",
       "      <th>ProsperScore</th>\n",
       "      <th>EmploymentStatus</th>\n",
       "      <th>StatedMonthlyIncome</th>\n",
       "      <th>MonthlyLoanPayment</th>\n",
       "      <th>LoanOriginalAmount</th>\n",
       "      <th>DebtToIncomeRatio</th>\n",
       "      <th>EstimatedLoss</th>\n",
       "      <th>diff_income_loan</th>\n",
       "    </tr>\n",
       "  </thead>\n",
       "  <tbody>\n",
       "    <tr>\n",
       "      <th>84351</th>\n",
       "      <td>NaN</td>\n",
       "      <td>1</td>\n",
       "      <td>6.0</td>\n",
       "      <td>Employed</td>\n",
       "      <td>6001.666667</td>\n",
       "      <td>343.91</td>\n",
       "      <td>15000</td>\n",
       "      <td>0.3</td>\n",
       "      <td>0.0399</td>\n",
       "      <td>-8998.333333</td>\n",
       "    </tr>\n",
       "  </tbody>\n",
       "</table>\n",
       "</div>"
      ],
      "text/plain": [
       "      CreditGrade  LoanStatus  ProsperScore EmploymentStatus  \\\n",
       "84351         NaN           1           6.0         Employed   \n",
       "\n",
       "       StatedMonthlyIncome  MonthlyLoanPayment  LoanOriginalAmount  \\\n",
       "84351          6001.666667              343.91               15000   \n",
       "\n",
       "       DebtToIncomeRatio  EstimatedLoss  diff_income_loan  \n",
       "84351                0.3         0.0399      -8998.333333  "
      ]
     },
     "execution_count": 50,
     "metadata": {},
     "output_type": "execute_result"
    }
   ],
   "source": [
    "sample.head(1)"
   ]
  },
  {
   "cell_type": "code",
   "execution_count": 51,
   "metadata": {},
   "outputs": [],
   "source": [
    "# delete data on df_loan2 which has LoanStatus 1\n",
    "drop_index = df_loan2[df_loan2.LoanStatus == 1].index\n",
    "df_loan2.drop(drop_index, inplace=True)"
   ]
  },
  {
   "cell_type": "code",
   "execution_count": 52,
   "metadata": {},
   "outputs": [
    {
     "data": {
      "text/plain": [
       "(11541, 10)"
      ]
     },
     "execution_count": 52,
     "metadata": {},
     "output_type": "execute_result"
    }
   ],
   "source": [
    "df_loan2.shape"
   ]
  },
  {
   "cell_type": "code",
   "execution_count": 53,
   "metadata": {},
   "outputs": [],
   "source": [
    "# add sample dataset to df_loan2 dataset\n",
    "df_loan2 = df_loan2.append(sample, ignore_index=True)"
   ]
  },
  {
   "cell_type": "code",
   "execution_count": 54,
   "metadata": {
    "scrolled": true
   },
   "outputs": [
    {
     "data": {
      "text/plain": [
       "1    11541\n",
       "0    11541\n",
       "Name: LoanStatus, dtype: int64"
      ]
     },
     "execution_count": 54,
     "metadata": {},
     "output_type": "execute_result"
    }
   ],
   "source": [
    "df_loan2.LoanStatus.value_counts()"
   ]
  },
  {
   "cell_type": "markdown",
   "metadata": {},
   "source": [
    "The amount of data that has LoanStatus 1 is the same as the amount of data that has LoanStatus 0"
   ]
  },
  {
   "cell_type": "code",
   "execution_count": 55,
   "metadata": {},
   "outputs": [],
   "source": [
    "# save data that has been cleaned\n",
    "df_loan2.to_csv('prosperLoanData_new2.csv')"
   ]
  },
  {
   "cell_type": "code",
   "execution_count": 56,
   "metadata": {},
   "outputs": [
    {
     "data": {
      "text/plain": [
       "(23082, 10)"
      ]
     },
     "execution_count": 56,
     "metadata": {},
     "output_type": "execute_result"
    }
   ],
   "source": [
    "df_loan2.shape"
   ]
  },
  {
   "cell_type": "markdown",
   "metadata": {},
   "source": [
    "The total amount of data to be further analyzed is 23082 data"
   ]
  },
  {
   "cell_type": "markdown",
   "metadata": {},
   "source": [
    "### Discuss the distribution(s) of your variable(s) of interest. Were there any unusual points? Did you need to perform any transformations?\n",
    "\n",
    "> CreditGrate and ProsperScore have relatively normal distributions, while the EmploymentStatus, StateMonthlyIncome, MonthlyLoanPayment, DebtToIncomeRatio, and EstimatedLoss variables have the right skewed distribution.\n",
    "\n",
    "> Out of 50066 observations, 76% have completed status while 23% have charged off status\n",
    "\n",
    "### Of the features you investigated, were there any unusual distributions? Did you perform any operations on the data to tidy, adjust, or change the form of the data? If so, why did you do this?\n",
    "\n",
    "> After seeing the distribution of the supporting variables of the analysis there are some changes in the data that I did, these changes are:\n",
    "- Change the value of 'NC' (No Credit) on credit grade to NaN. This is so the NC value is not included during the calculation or data visualization.\n",
    "- Calculate the difference between StatedMonthlyIncome with LoanOriginalAmount (diff_income_loan) and delete data that has a difference of more than 20000 dollars. I think it is impossible for people who have income per month that is far greater than the amount of loans to borrow money.\n",
    "- Change the data on LoanStatus to be a boolean value, Completed to 1 and Chargedoff to 0 to facilitate data processing.\n",
    "- Delete data that has a monthly income of less than 10 dollars. This is because I assume it is impossible for anyone to have an income of under 10 dollars per month and dare to borrow money from online loans.\n",
    "- Taking samples from data that have LoanStatus 1 as much as data that has LoanStatus 0, this is because data with LoanStatus 1 is far more than data with LoanStatus 0."
   ]
  },
  {
   "cell_type": "markdown",
   "metadata": {},
   "source": [
    "## Bivariate Exploration"
   ]
  },
  {
   "cell_type": "markdown",
   "metadata": {},
   "source": [
    "### CreditGrade vs LoanStatus"
   ]
  },
  {
   "cell_type": "code",
   "execution_count": 57,
   "metadata": {},
   "outputs": [
    {
     "data": {
      "text/plain": [
       "(array([0, 1, 2, 3, 4, 5, 6]), <a list of 7 Text xticklabel objects>)"
      ]
     },
     "execution_count": 57,
     "metadata": {},
     "output_type": "execute_result"
    },
    {
     "data": {
      "image/png": "[encoded data removed]",
      "text/plain": [
       "<Figure size 432x288 with 1 Axes>"
      ]
     },
     "metadata": {
      "needs_background": "light"
     },
     "output_type": "display_data"
    }
   ],
   "source": [
    "sns.countplot(data=df_loan2, x='CreditGrade', hue='LoanStatus')\n",
    "plt.xticks(rotation=15)"
   ]
  },
  {
   "cell_type": "markdown",
   "metadata": {},
   "source": [
    "Amount of data with LoanStatus Completed on HR-C credit grade smaller than data with LoanStatus charged off. In contrast, the amount of data with LoanStatus Completed on credit grade A and AA is greater than the amount of data with LoanStatus charged off. For credit grade B, the amount is almost the same between the amount of data with the competed LoanStatus and the amount of data that has a LoanStatus chargedoff."
   ]
  },
  {
   "cell_type": "code",
   "execution_count": 58,
   "metadata": {},
   "outputs": [],
   "source": [
    "def ratio(dataset, col1, col2):\n",
    "    ratio_count = dataset.groupby([col1, col2]).size().unstack().add_prefix('count_')\n",
    "    ratio_count['chargedoff_percent'] = (ratio_count.count_0 / ratio_count.sum(1)) * 100\n",
    "    ratio_count.reset_index(inplace=True)\n",
    "    return ratio_count"
   ]
  },
  {
   "cell_type": "code",
   "execution_count": 59,
   "metadata": {
    "scrolled": true
   },
   "outputs": [
    {
     "data": {
      "image/png": "[encoded data removed]",
      "text/plain": [
       "<Figure size 432x288 with 1 Axes>"
      ]
     },
     "metadata": {
      "needs_background": "light"
     },
     "output_type": "display_data"
    }
   ],
   "source": [
    "data = ratio(df_loan2, 'CreditGrade', 'LoanStatus')\n",
    "sns.barplot(data=data, x='CreditGrade', y='chargedoff_percent', \n",
    "            color=base_color)\n",
    "plt.xticks(rotation=30);"
   ]
  },
  {
   "cell_type": "markdown",
   "metadata": {},
   "source": [
    "It can be seen clearly the better the credit grade of the borrower the smaller the percentage of charged off loans"
   ]
  },
  {
   "cell_type": "code",
   "execution_count": 60,
   "metadata": {},
   "outputs": [
    {
     "data": {
      "text/html": [
       "<div>\n",
       "<style scoped>\n",
       "    .dataframe tbody tr th:only-of-type {\n",
       "        vertical-align: middle;\n",
       "    }\n",
       "\n",
       "    .dataframe tbody tr th {\n",
       "        vertical-align: top;\n",
       "    }\n",
       "\n",
       "    .dataframe thead th {\n",
       "        text-align: right;\n",
       "    }\n",
       "</style>\n",
       "<table border=\"1\" class=\"dataframe\">\n",
       "  <thead>\n",
       "    <tr style=\"text-align: right;\">\n",
       "      <th>LoanStatus</th>\n",
       "      <th>CreditGrade</th>\n",
       "      <th>count_0</th>\n",
       "      <th>count_1</th>\n",
       "      <th>chargedoff_percent</th>\n",
       "    </tr>\n",
       "  </thead>\n",
       "  <tbody>\n",
       "    <tr>\n",
       "      <th>0</th>\n",
       "      <td>HR</td>\n",
       "      <td>1218</td>\n",
       "      <td>438</td>\n",
       "      <td>73.550725</td>\n",
       "    </tr>\n",
       "    <tr>\n",
       "      <th>1</th>\n",
       "      <td>E</td>\n",
       "      <td>928</td>\n",
       "      <td>533</td>\n",
       "      <td>63.518138</td>\n",
       "    </tr>\n",
       "    <tr>\n",
       "      <th>2</th>\n",
       "      <td>D</td>\n",
       "      <td>1301</td>\n",
       "      <td>910</td>\n",
       "      <td>58.842153</td>\n",
       "    </tr>\n",
       "    <tr>\n",
       "      <th>3</th>\n",
       "      <td>C</td>\n",
       "      <td>1259</td>\n",
       "      <td>1072</td>\n",
       "      <td>54.011154</td>\n",
       "    </tr>\n",
       "    <tr>\n",
       "      <th>4</th>\n",
       "      <td>B</td>\n",
       "      <td>850</td>\n",
       "      <td>867</td>\n",
       "      <td>49.504950</td>\n",
       "    </tr>\n",
       "    <tr>\n",
       "      <th>5</th>\n",
       "      <td>A</td>\n",
       "      <td>491</td>\n",
       "      <td>749</td>\n",
       "      <td>39.596774</td>\n",
       "    </tr>\n",
       "    <tr>\n",
       "      <th>6</th>\n",
       "      <td>AA</td>\n",
       "      <td>298</td>\n",
       "      <td>852</td>\n",
       "      <td>25.913043</td>\n",
       "    </tr>\n",
       "  </tbody>\n",
       "</table>\n",
       "</div>"
      ],
      "text/plain": [
       "LoanStatus CreditGrade  count_0  count_1  chargedoff_percent\n",
       "0                   HR     1218      438           73.550725\n",
       "1                    E      928      533           63.518138\n",
       "2                    D     1301      910           58.842153\n",
       "3                    C     1259     1072           54.011154\n",
       "4                    B      850      867           49.504950\n",
       "5                    A      491      749           39.596774\n",
       "6                   AA      298      852           25.913043"
      ]
     },
     "execution_count": 60,
     "metadata": {},
     "output_type": "execute_result"
    }
   ],
   "source": [
    "data"
   ]
  },
  {
   "cell_type": "markdown",
   "metadata": {},
   "source": [
    "### ProsperScore vs LoanStatus"
   ]
  },
  {
   "cell_type": "code",
   "execution_count": 61,
   "metadata": {},
   "outputs": [
    {
     "data": {
      "image/png": "[encoded data removed]",
      "text/plain": [
       "<Figure size 432x288 with 1 Axes>"
      ]
     },
     "metadata": {
      "needs_background": "light"
     },
     "output_type": "display_data"
    }
   ],
   "source": [
    "sns.countplot(data=df_loan2, x='ProsperScore', hue='LoanStatus')\n",
    "plt.xticks(rotation=15);"
   ]
  },
  {
   "cell_type": "code",
   "execution_count": 62,
   "metadata": {},
   "outputs": [
    {
     "data": {
      "text/plain": [
       "(array([ 0,  1,  2,  3,  4,  5,  6,  7,  8,  9, 10]),\n",
       " <a list of 11 Text xticklabel objects>)"
      ]
     },
     "execution_count": 62,
     "metadata": {},
     "output_type": "execute_result"
    },
    {
     "data": {
      "image/png": "[encoded data removed]",
      "text/plain": [
       "<Figure size 432x288 with 1 Axes>"
      ]
     },
     "metadata": {
      "needs_background": "light"
     },
     "output_type": "display_data"
    }
   ],
   "source": [
    "data = ratio(df_loan2, 'ProsperScore', 'LoanStatus')\n",
    "sns.barplot(data=data, x='ProsperScore', y='chargedoff_percent', \n",
    "            color=base_color)\n",
    "plt.xticks(rotation=30)"
   ]
  },
  {
   "cell_type": "markdown",
   "metadata": {},
   "source": [
    "Overall, the greater the value of the prosper score, the smaller the percentage charged off"
   ]
  },
  {
   "cell_type": "code",
   "execution_count": 63,
   "metadata": {},
   "outputs": [
    {
     "data": {
      "text/html": [
       "<div>\n",
       "<style scoped>\n",
       "    .dataframe tbody tr th:only-of-type {\n",
       "        vertical-align: middle;\n",
       "    }\n",
       "\n",
       "    .dataframe tbody tr th {\n",
       "        vertical-align: top;\n",
       "    }\n",
       "\n",
       "    .dataframe thead th {\n",
       "        text-align: right;\n",
       "    }\n",
       "</style>\n",
       "<table border=\"1\" class=\"dataframe\">\n",
       "  <thead>\n",
       "    <tr style=\"text-align: right;\">\n",
       "      <th>LoanStatus</th>\n",
       "      <th>ProsperScore</th>\n",
       "      <th>count_0</th>\n",
       "      <th>count_1</th>\n",
       "      <th>chargedoff_percent</th>\n",
       "    </tr>\n",
       "  </thead>\n",
       "  <tbody>\n",
       "    <tr>\n",
       "      <th>0</th>\n",
       "      <td>1.0</td>\n",
       "      <td>228.0</td>\n",
       "      <td>122.0</td>\n",
       "      <td>65.142857</td>\n",
       "    </tr>\n",
       "    <tr>\n",
       "      <th>1</th>\n",
       "      <td>2.0</td>\n",
       "      <td>371.0</td>\n",
       "      <td>252.0</td>\n",
       "      <td>59.550562</td>\n",
       "    </tr>\n",
       "    <tr>\n",
       "      <th>2</th>\n",
       "      <td>3.0</td>\n",
       "      <td>392.0</td>\n",
       "      <td>324.0</td>\n",
       "      <td>54.748603</td>\n",
       "    </tr>\n",
       "    <tr>\n",
       "      <th>3</th>\n",
       "      <td>4.0</td>\n",
       "      <td>750.0</td>\n",
       "      <td>564.0</td>\n",
       "      <td>57.077626</td>\n",
       "    </tr>\n",
       "    <tr>\n",
       "      <th>4</th>\n",
       "      <td>5.0</td>\n",
       "      <td>870.0</td>\n",
       "      <td>649.0</td>\n",
       "      <td>57.274523</td>\n",
       "    </tr>\n",
       "    <tr>\n",
       "      <th>5</th>\n",
       "      <td>6.0</td>\n",
       "      <td>894.0</td>\n",
       "      <td>852.0</td>\n",
       "      <td>51.202749</td>\n",
       "    </tr>\n",
       "    <tr>\n",
       "      <th>6</th>\n",
       "      <td>7.0</td>\n",
       "      <td>637.0</td>\n",
       "      <td>706.0</td>\n",
       "      <td>47.431124</td>\n",
       "    </tr>\n",
       "    <tr>\n",
       "      <th>7</th>\n",
       "      <td>8.0</td>\n",
       "      <td>652.0</td>\n",
       "      <td>1214.0</td>\n",
       "      <td>34.941050</td>\n",
       "    </tr>\n",
       "    <tr>\n",
       "      <th>8</th>\n",
       "      <td>9.0</td>\n",
       "      <td>305.0</td>\n",
       "      <td>888.0</td>\n",
       "      <td>25.565801</td>\n",
       "    </tr>\n",
       "    <tr>\n",
       "      <th>9</th>\n",
       "      <td>10.0</td>\n",
       "      <td>56.0</td>\n",
       "      <td>503.0</td>\n",
       "      <td>10.017889</td>\n",
       "    </tr>\n",
       "    <tr>\n",
       "      <th>10</th>\n",
       "      <td>11.0</td>\n",
       "      <td>NaN</td>\n",
       "      <td>8.0</td>\n",
       "      <td>NaN</td>\n",
       "    </tr>\n",
       "  </tbody>\n",
       "</table>\n",
       "</div>"
      ],
      "text/plain": [
       "LoanStatus  ProsperScore  count_0  count_1  chargedoff_percent\n",
       "0                    1.0    228.0    122.0           65.142857\n",
       "1                    2.0    371.0    252.0           59.550562\n",
       "2                    3.0    392.0    324.0           54.748603\n",
       "3                    4.0    750.0    564.0           57.077626\n",
       "4                    5.0    870.0    649.0           57.274523\n",
       "5                    6.0    894.0    852.0           51.202749\n",
       "6                    7.0    637.0    706.0           47.431124\n",
       "7                    8.0    652.0   1214.0           34.941050\n",
       "8                    9.0    305.0    888.0           25.565801\n",
       "9                   10.0     56.0    503.0           10.017889\n",
       "10                  11.0      NaN      8.0                 NaN"
      ]
     },
     "execution_count": 63,
     "metadata": {},
     "output_type": "execute_result"
    }
   ],
   "source": [
    "data"
   ]
  },
  {
   "cell_type": "markdown",
   "metadata": {},
   "source": [
    "### EmploymentStatus vs LoanStatus"
   ]
  },
  {
   "cell_type": "code",
   "execution_count": 64,
   "metadata": {},
   "outputs": [
    {
     "data": {
      "image/png": "[encoded data removed]",
      "text/plain": [
       "<Figure size 432x288 with 1 Axes>"
      ]
     },
     "metadata": {
      "needs_background": "light"
     },
     "output_type": "display_data"
    }
   ],
   "source": [
    "sns.countplot(data=df_loan2, x='EmploymentStatus', hue='LoanStatus')\n",
    "plt.xticks(rotation=15);"
   ]
  },
  {
   "cell_type": "code",
   "execution_count": 65,
   "metadata": {},
   "outputs": [
    {
     "data": {
      "text/plain": [
       "<matplotlib.lines.Line2D at 0x1d25e0bf888>"
      ]
     },
     "execution_count": 65,
     "metadata": {},
     "output_type": "execute_result"
    },
    {
     "data": {
      "image/png": "[encoded data removed]",
      "text/plain": [
       "<Figure size 432x288 with 1 Axes>"
      ]
     },
     "metadata": {
      "needs_background": "light"
     },
     "output_type": "display_data"
    }
   ],
   "source": [
    "data = ratio(df_loan2, 'EmploymentStatus','LoanStatus')\n",
    "sns.barplot(data=data, x='EmploymentStatus', y='chargedoff_percent', \n",
    "            color=base_color)\n",
    "plt.xticks(rotation=30)\n",
    "plt.axhline(y=50, color='red', linestyle='--')"
   ]
  },
  {
   "cell_type": "markdown",
   "metadata": {},
   "source": [
    "Not available, not employed, other, retired, and self employed have a charged off percentage of more than 50%. 'Other' has the biggest charged off presentation. The interesting thing here is that part-time has the smallest charged off percentage among others."
   ]
  },
  {
   "cell_type": "markdown",
   "metadata": {},
   "source": [
    "### StatedMonthlyIncome vs LoanStatus"
   ]
  },
  {
   "cell_type": "code",
   "execution_count": 66,
   "metadata": {},
   "outputs": [
    {
     "data": {
      "text/plain": [
       "<matplotlib.axes._subplots.AxesSubplot at 0x1d25dc13248>"
      ]
     },
     "execution_count": 66,
     "metadata": {},
     "output_type": "execute_result"
    },
    {
     "data": {
      "text/plain": [
       "<Figure size 432x288 with 0 Axes>"
      ]
     },
     "metadata": {},
     "output_type": "display_data"
    },
    {
     "data": {
      "image/png": "[encoded data removed]",
      "text/plain": [
       "<Figure size 432x216 with 2 Axes>"
      ]
     },
     "metadata": {
      "needs_background": "light"
     },
     "output_type": "display_data"
    },
    {
     "data": {
      "image/png": "[encoded data removed]",
      "text/plain": [
       "<Figure size 432x432 with 1 Axes>"
      ]
     },
     "metadata": {
      "needs_background": "light"
     },
     "output_type": "display_data"
    }
   ],
   "source": [
    "plt.figure()\n",
    "bins= np.arange(10, df_loan2.StatedMonthlyIncome.max()+1000, 1000)\n",
    "g = sns.FacetGrid(data=df_loan2, col='LoanStatus')\n",
    "g.map(plt.hist, 'StatedMonthlyIncome', bins=bins)\n",
    "plt.xlim(0, 15000);\n",
    "\n",
    "plt.figure(figsize=(6, 6))\n",
    "sns.boxplot(data=df_loan2, x='LoanStatus', y='StatedMonthlyIncome')"
   ]
  },
  {
   "cell_type": "markdown",
   "metadata": {},
   "source": [
    "There is no significant difference between StatedMonthlyIncome from borrowers who have a LoanStatus charged off and StatedMonthlyIncome from borrowers who have completed status."
   ]
  },
  {
   "cell_type": "code",
   "execution_count": 67,
   "metadata": {},
   "outputs": [
    {
     "data": {
      "text/plain": [
       "LoanStatus\n",
       "0    3833.333333\n",
       "1    4509.666667\n",
       "Name: StatedMonthlyIncome, dtype: float64"
      ]
     },
     "execution_count": 67,
     "metadata": {},
     "output_type": "execute_result"
    }
   ],
   "source": [
    "df_loan2.groupby('LoanStatus').StatedMonthlyIncome.median()"
   ]
  },
  {
   "cell_type": "markdown",
   "metadata": {},
   "source": [
    "### MonthlyLoanPayment vs LoanStatus"
   ]
  },
  {
   "cell_type": "code",
   "execution_count": 68,
   "metadata": {},
   "outputs": [
    {
     "data": {
      "text/plain": [
       "<Figure size 432x288 with 0 Axes>"
      ]
     },
     "metadata": {},
     "output_type": "display_data"
    },
    {
     "data": {
      "image/png": "[encoded data removed]",
      "text/plain": [
       "<Figure size 432x216 with 2 Axes>"
      ]
     },
     "metadata": {
      "needs_background": "light"
     },
     "output_type": "display_data"
    },
    {
     "data": {
      "image/png": "[encoded data removed]",
      "text/plain": [
       "<Figure size 432x432 with 1 Axes>"
      ]
     },
     "metadata": {
      "needs_background": "light"
     },
     "output_type": "display_data"
    }
   ],
   "source": [
    "bins= np.arange(0, df_loan2.MonthlyLoanPayment.max()+100, 100)\n",
    "plt.figure()\n",
    "g = sns.FacetGrid(data=df_loan2, col='LoanStatus')\n",
    "g.map(plt.hist, 'MonthlyLoanPayment', bins=bins)\n",
    "\n",
    "plt.figure(figsize=(6, 6))\n",
    "sns.boxplot(data=df_loan2, x='LoanStatus', y='MonthlyLoanPayment')\n",
    "plt.ylim(0, 1000);"
   ]
  },
  {
   "cell_type": "markdown",
   "metadata": {},
   "source": [
    "There is no significant difference between the StatedMonthlyIncome distribution of borrowers who have a LoanStatus charged off with the StatedMonthlyIncome distribution from borrowers who have a LoanStatus completed"
   ]
  },
  {
   "cell_type": "code",
   "execution_count": 69,
   "metadata": {},
   "outputs": [
    {
     "data": {
      "text/plain": [
       "LoanStatus\n",
       "0    233.144736\n",
       "1    219.359422\n",
       "Name: MonthlyLoanPayment, dtype: float64"
      ]
     },
     "execution_count": 69,
     "metadata": {},
     "output_type": "execute_result"
    }
   ],
   "source": [
    "df_loan2.groupby('LoanStatus').MonthlyLoanPayment.mean()"
   ]
  },
  {
   "cell_type": "markdown",
   "metadata": {},
   "source": [
    "### DebtToIncomeRatio vs LoanStatus"
   ]
  },
  {
   "cell_type": "code",
   "execution_count": 70,
   "metadata": {},
   "outputs": [
    {
     "data": {
      "text/plain": [
       "<Figure size 432x288 with 0 Axes>"
      ]
     },
     "metadata": {},
     "output_type": "display_data"
    },
    {
     "data": {
      "image/png": "[encoded data removed]",
      "text/plain": [
       "<Figure size 432x216 with 2 Axes>"
      ]
     },
     "metadata": {
      "needs_background": "light"
     },
     "output_type": "display_data"
    },
    {
     "data": {
      "image/png": "[encoded data removed]",
      "text/plain": [
       "<Figure size 432x432 with 1 Axes>"
      ]
     },
     "metadata": {
      "needs_background": "light"
     },
     "output_type": "display_data"
    }
   ],
   "source": [
    "bins= np.arange(0, df_loan2.DebtToIncomeRatio.max()+0.05, 0.05)\n",
    "plt.figure()\n",
    "g = sns.FacetGrid(data=df_loan2, col='LoanStatus')\n",
    "g.map(plt.hist, 'DebtToIncomeRatio', bins=bins)\n",
    "plt.xlim(0, 2);\n",
    "\n",
    "plt.figure(figsize=(6, 6))\n",
    "sns.violinplot(data=df_loan2, x='LoanStatus', y='DebtToIncomeRatio')\n",
    "plt.ylim(0, 2);"
   ]
  },
  {
   "cell_type": "markdown",
   "metadata": {},
   "source": [
    "There is no significant difference between the DebtToIncomeRatio distribution of the LoanStatus charged off and the DebtToIncomeRatio distribution of LoanStatus completed."
   ]
  },
  {
   "cell_type": "code",
   "execution_count": 71,
   "metadata": {},
   "outputs": [
    {
     "data": {
      "text/plain": [
       "LoanStatus\n",
       "0    0.21\n",
       "1    0.19\n",
       "Name: DebtToIncomeRatio, dtype: float64"
      ]
     },
     "execution_count": 71,
     "metadata": {},
     "output_type": "execute_result"
    }
   ],
   "source": [
    "df_loan2.groupby('LoanStatus').DebtToIncomeRatio.median()"
   ]
  },
  {
   "cell_type": "markdown",
   "metadata": {},
   "source": [
    "### EstimatedLoss vs LoanStatus"
   ]
  },
  {
   "cell_type": "code",
   "execution_count": 72,
   "metadata": {},
   "outputs": [
    {
     "data": {
      "text/plain": [
       "<matplotlib.axes._subplots.AxesSubplot at 0x1d25df8bc48>"
      ]
     },
     "execution_count": 72,
     "metadata": {},
     "output_type": "execute_result"
    },
    {
     "data": {
      "image/png": "[encoded data removed]",
      "text/plain": [
       "<Figure size 432x432 with 1 Axes>"
      ]
     },
     "metadata": {
      "needs_background": "light"
     },
     "output_type": "display_data"
    },
    {
     "data": {
      "image/png": "[encoded data removed]",
      "text/plain": [
       "<Figure size 432x216 with 2 Axes>"
      ]
     },
     "metadata": {
      "needs_background": "light"
     },
     "output_type": "display_data"
    }
   ],
   "source": [
    "plt.figure(figsize=(6, 6))\n",
    "plt.figure(1, 1, 1)\n",
    "g = sns.FacetGrid(data=df_loan2, col='LoanStatus')\n",
    "g.map(plt.hist, 'EstimatedLoss')\n",
    "\n",
    "plt.figure(1, 2, 1)\n",
    "sns.boxplot(data=df_loan2, x='LoanStatus', y='EstimatedLoss')"
   ]
  },
  {
   "cell_type": "markdown",
   "metadata": {},
   "source": [
    "There is a significant difference in the EstimasedLoss distribution between loans that have completed LoanStatus and loans that have LoanStatus charged off. EstimasedLoss data with LoanStatus completed have right skewed distribution while EstimasedLoss data with LoanStatus charged off have relatively left skewed distribution."
   ]
  },
  {
   "cell_type": "markdown",
   "metadata": {},
   "source": [
    "### ProsperScore vs EstimatedLoss"
   ]
  },
  {
   "cell_type": "code",
   "execution_count": 73,
   "metadata": {},
   "outputs": [
    {
     "data": {
      "text/plain": [
       "(array([ 0,  1,  2,  3,  4,  5,  6,  7,  8,  9, 10]),\n",
       " <a list of 11 Text xticklabel objects>)"
      ]
     },
     "execution_count": 73,
     "metadata": {},
     "output_type": "execute_result"
    },
    {
     "data": {
      "image/png": "[encoded data removed]",
      "text/plain": [
       "<Figure size 432x288 with 1 Axes>"
      ]
     },
     "metadata": {
      "needs_background": "light"
     },
     "output_type": "display_data"
    }
   ],
   "source": [
    "sns.pointplot(data=df_loan2, x='ProsperScore', y='EstimatedLoss')\n",
    "plt.xticks(rotation=30)"
   ]
  },
  {
   "cell_type": "markdown",
   "metadata": {},
   "source": [
    "Overall the greater the ProsperScore the smaller the EstimatedLoss value"
   ]
  },
  {
   "cell_type": "markdown",
   "metadata": {},
   "source": [
    "### Talk about some of the relationships you observed in this part of the investigation. How did the feature(s) of interest vary with other features in the dataset?\n",
    "\n",
    "> - The higher the credit grade, the smaller the percentage of loans with a status charged off\n",
    "- Overall, the greater the prosper score, the smaller the percentage of charged off\n",
    "- Borrowers with employement not available, not employed, other, retired, and self employed status have a charged off percentage of more than 50%.\n",
    "- There is no significant difference between StatedMonthlyIncome from borrowers who have a LoanStatus charged off and StatedMonthlyIncome from borrowers who have completed status.\n",
    "- There is no significant difference between the StatedMonthlyIncome distribution of borrowers who have a LoanStatus charged off with the StatedMonthlyIncome distribution from borrowers who have a LoanStatus completed\n",
    "- There is no significant difference between the DebtToIncomeRatio distribution of the LoanStatus charged off and the DebtToIncomeRatio distribution of LoanStatus completed.\n",
    "- There is a significant difference in the EstimasedLoss distribution between loans that have completed LoanStatus and loans that have LoanStatus charged off. EstimasedLoss data with LoanStatus completed have right skewed distribution while EstimasedLoss data with LoanStatus charged off have relatively left skewed distribution.\n",
    "\n",
    "\n",
    "### Did you observe any interesting relationships between the other features (not the main feature(s) of interest)?\n",
    "\n",
    "> - Overall the greater the ProsperScore the smaller the EstimatedLoss value"
   ]
  },
  {
   "cell_type": "markdown",
   "metadata": {},
   "source": [
    "## Multivariate Exploration"
   ]
  },
  {
   "cell_type": "markdown",
   "metadata": {},
   "source": [
    "### Employment status, EstimatedLoss and Loan Status"
   ]
  },
  {
   "cell_type": "code",
   "execution_count": 74,
   "metadata": {},
   "outputs": [
    {
     "data": {
      "text/plain": [
       "(0, 0.2)"
      ]
     },
     "execution_count": 74,
     "metadata": {},
     "output_type": "execute_result"
    },
    {
     "data": {
      "image/png": "[encoded data removed]",
      "text/plain": [
       "<Figure size 432x288 with 1 Axes>"
      ]
     },
     "metadata": {
      "needs_background": "light"
     },
     "output_type": "display_data"
    }
   ],
   "source": [
    "sns.pointplot(data=df_loan2, x='EmploymentStatus', y='EstimatedLoss', hue='LoanStatus')\n",
    "plt.xticks(rotation=30)\n",
    "plt.ylim(0, 0.20)"
   ]
  },
  {
   "cell_type": "markdown",
   "metadata": {},
   "source": [
    "For each EmploymentStatus, data with LoanStatus 0 has an average value of EstimastedLoss greater than the average data with LoanStatus 1."
   ]
  },
  {
   "cell_type": "markdown",
   "metadata": {},
   "source": [
    "### ProsperScore, EstimatedLoss, chargedoff_percent"
   ]
  },
  {
   "cell_type": "code",
   "execution_count": 75,
   "metadata": {},
   "outputs": [
    {
     "data": {
      "text/plain": [
       "<seaborn.axisgrid.FacetGrid at 0x1d25e9e7248>"
      ]
     },
     "execution_count": 75,
     "metadata": {},
     "output_type": "execute_result"
    },
    {
     "data": {
      "image/png": "[encoded data removed]",
      "text/plain": [
       "<Figure size 360x360 with 1 Axes>"
      ]
     },
     "metadata": {
      "needs_background": "light"
     },
     "output_type": "display_data"
    }
   ],
   "source": [
    "type_colors = {0: '#ee99ac', 1: '#7038f8'}\n",
    "g = sns.FacetGrid(data = df_loan2, hue = 'LoanStatus', size = 5, palette = type_colors)\n",
    "g.map(plt.scatter, 'EstimatedLoss','ProsperScore')"
   ]
  },
  {
   "cell_type": "markdown",
   "metadata": {},
   "source": [
    "The difference between LoanStatus 0 data and LoanStatus 1 data is difficult to see when viewed using scatterplots"
   ]
  },
  {
   "cell_type": "code",
   "execution_count": 76,
   "metadata": {
    "scrolled": true
   },
   "outputs": [
    {
     "data": {
      "text/plain": [
       "(0, 80)"
      ]
     },
     "execution_count": 76,
     "metadata": {},
     "output_type": "execute_result"
    },
    {
     "data": {
      "image/png": "[encoded data removed]",
      "text/plain": [
       "<Figure size 432x288 with 2 Axes>"
      ]
     },
     "metadata": {
      "needs_background": "light"
     },
     "output_type": "display_data"
    }
   ],
   "source": [
    "data = ratio(df_loan2, 'ProsperScore', 'LoanStatus')\n",
    "fig, ax1 = plt.subplots()\n",
    "sns.pointplot(data=df_loan2, x='ProsperScore', y='EstimatedLoss', ax=ax1)\n",
    "ax1.set_ylim(0, 0.2)\n",
    "ax2 = ax1.twinx()\n",
    "sns.pointplot(data=data, x='ProsperScore', y='chargedoff_percent', ax=ax2, color=sns.color_palette()[2])\n",
    "ax2.set_ylim(0, 80)"
   ]
  },
  {
   "cell_type": "markdown",
   "metadata": {},
   "source": [
    "Overall EstimatedLoss and chargedoff_percent have almost the same trend data on each ProsperScore"
   ]
  },
  {
   "cell_type": "markdown",
   "metadata": {},
   "source": [
    "### Talk about some of the relationships you observed in this part of the investigation. Were there features that strengthened each other in terms of looking at your feature(s) of interest?\n",
    "\n",
    "> - For each EmploymentStatus, data with LoanStatus 0 has an average value of EstimastedLoss greater than the average data with LoanStatus 1.\n",
    "- Overall EstimatedLoss and chargedoff_percent have almost the same trend data on each ProsperScore"
   ]
  },
  {
   "cell_type": "markdown",
   "metadata": {},
   "source": [
    "Sources:\n",
    "- https://stackoverflow.com/questions/46088436/grouping-and-counting-to-get-ratios-in-pandas\n",
    "- https://stackoverflow.com/questions/51882279/seaborn-barplot-with-two-y-axis\n",
    "- https://stackoverflow.com/questions/42767489/add-legend-to-seaborn-point-plot\n",
    "- https://venngage.com/blog/color-blind-friendly-palette/"
   ]
  }
 ],
 "metadata": {
  "kernelspec": {
   "display_name": "Python 3",
   "language": "python",
   "name": "python3"
  },
  "language_info": {
   "codemirror_mode": {
    "name": "ipython",
    "version": 3
   },
   "file_extension": ".py",
   "mimetype": "text/x-python",
   "name": "python",
   "nbconvert_exporter": "python",
   "pygments_lexer": "ipython3",
   "version": "3.7.6"
  }
 },
 "nbformat": 4,
 "nbformat_minor": 2
}
