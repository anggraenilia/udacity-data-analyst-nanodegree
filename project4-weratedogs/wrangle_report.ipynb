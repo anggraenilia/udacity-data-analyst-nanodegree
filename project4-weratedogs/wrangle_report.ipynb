{
 "cells": [
  {
   "cell_type": "markdown",
   "metadata": {},
   "source": [
    "# Wrangling Steps\n",
    "## 1. Gathering\n",
    "#### a. twitter-archive-enhanced.csv**\n",
    "    - download the file provided by clicking the link to download. \n",
    "    - read the file and then store it in the df_twiter dataframe\n",
    "#### b. image-predictions.tsv\n",
    "    - Make a request to the link  https://d17h27t6h515a5.cloudfront.net/topher/2017/August/599fd2ad_image-predictions/image-predictions.tsv, \n",
    "    - save the contents of the file in image-predictions.tsv \n",
    "    - read the data and store it in the df_imagepredict dataset\n",
    "#### c. tweet-json.txt\n",
    "    - Download tweet-json.txt provided by clicking the link to download. \n",
    "    - Open the file, read the file line by line and retrieve the tweet id, retweet count and favorite count data on each line.\n",
    "    - Store the data in the df_tweet dataset\n",
    "\n",
    "### 2. Assesing and Cleaning\n",
    "#### Quality\n",
    "* df_twitter:\n",
    "      - There is an html tag in the source column\n",
    "      - Empty data in the name, doggo, floofer, pupper, and puppo columns are given the string value 'None' not NaN\n",
    "      - Tweet_id of type int, it should be a string\n",
    "      - The timestamp and retweeted_status_timestamp columns are of type string data, it should be datetime\n",
    "      - There is a rating_denominator with value other than 10\n",
    "      - Change the wrong name beginning with the lower case in the name column like 'such', 'a', 'quite', and others with NaN\n",
    "      - There is a value 'None' in the name column, it should be changed to NaN\n",
    "      - retrieve data that has an original rating (no retweet)\n",
    "      - remove in_reply_to_status_id, in_reply_to_user_id, retweeted_status_id, retweeted_status_user_id, and retweeted_status_timestamp columns\n",
    "* df_imagepredict:\n",
    "      - the tweet_id column is type int, it should be a string\n",
    "      - change the column names p1, p1_conf, p1_dog, p2, p2_conf, p2_dog, p3, p3_conf, p3_dog, to predict1, predict1_confident, predict1_dog and so on.\n",
    "        \n",
    "#### Tidiness\n",
    "    - The jpg_url and img_num columns of df_imagepredict should be a dataset with df_twitter\n",
    "    - df_tweet with df_twitter should be combined into one dataset\n",
    "    \n",
    "#### Data that has been cleaned\n",
    "Data cleaning process is carried out in accordance with the quality and tideness problems above. Following is an explanation of the data resulting from the cleaning process:\n",
    "- df_imagepredict2\n",
    "      The dataset has 1994 rows and 10 columns, this dataset is then stored in the image-predictions-new.csv file\n",
    "- df_twitter_master\n",
    "       This dataset has 1994 rows and 17 columns, this data set is then stored in the twitter_archive_master.csv file. This dataset is the result of combining the df_twitter dataset with the jpg_url and img_num columns belonging to df_imagepredict and also the df_tweet dataset. "
   ]
  }
 ],
 "metadata": {
  "kernelspec": {
   "display_name": "Python 3",
   "language": "python",
   "name": "python3"
  },
  "language_info": {
   "codemirror_mode": {
    "name": "ipython",
    "version": 3
   },
   "file_extension": ".py",
   "mimetype": "text/x-python",
   "name": "python",
   "nbconvert_exporter": "python",
   "pygments_lexer": "ipython3",
   "version": "3.7.6"
  }
 },
 "nbformat": 4,
 "nbformat_minor": 4
}
